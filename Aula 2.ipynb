{
 "cells": [
  {
   "cell_type": "markdown",
   "metadata": {},
   "source": [
    "# Aula 2"
   ]
  },
  {
   "cell_type": "markdown",
   "metadata": {},
   "source": [
    "## Condições e laços :"
   ]
  },
  {
   "cell_type": "markdown",
   "metadata": {},
   "source": [
    "### Blocos e indentação \n"
   ]
  },
  {
   "cell_type": "markdown",
   "metadata": {},
   "source": [
    "A principal diferença de Python para outras linguagens, como R, C e Java, é a representação de blocos de código usando níveis de indentação, dispensando o uso de chaves para marcar o início e o fim dos blocos. Essa diferença pode ser vista nos blocos de código abaixo, representando a mesma função para calcular a média aritmética de dois valores. O primeiro código está escrito em R e o segundo contém exatamente a mesma função escrita em Python."
   ]
  },
  {
   "cell_type": "code",
   "execution_count": 3,
   "metadata": {},
   "outputs": [],
   "source": [
    "def mean(value1, value2):\n",
    "    result = (value1 + value2) / 2\n",
    "    return result"
   ]
  },
  {
   "cell_type": "code",
   "execution_count": 4,
   "metadata": {},
   "outputs": [
    {
     "data": {
      "text/plain": [
       "2.5"
      ]
     },
     "execution_count": 4,
     "metadata": {},
     "output_type": "execute_result"
    }
   ],
   "source": [
    "mean(2,3)"
   ]
  },
  {
   "cell_type": "markdown",
   "metadata": {},
   "source": [
    "### Condições"
   ]
  },
  {
   "cell_type": "code",
   "execution_count": 10,
   "metadata": {},
   "outputs": [
    {
     "data": {
      "text/plain": [
       "'hired'"
      ]
     },
     "execution_count": 10,
     "metadata": {},
     "output_type": "execute_result"
    }
   ],
   "source": [
    "knows_python = True\n",
    "\n",
    "if knows_python == True:\n",
    "    situation = 'hired'\n",
    "else:\n",
    "    situation = 'unemployed'\n",
    "\n",
    "situation"
   ]
  },
  {
   "cell_type": "markdown",
   "metadata": {},
   "source": [
    "Note que a variável situation não foi definida antes do bloco condicional. Isso não resulta em erro porque só há dois fluxos possíveis para o código, i.e. knows_python == True ou knows_python == False. Caso uma variável não seja definida em todos os fluxos possíveis, é possível que ocorra um erro. Por exemplo, suponha que, caso seja contratada, a pessoa receberá um salário de R$10000,00. Se a pessoa não souber Python e tentarmos acessar o salário, causaremos um erro."
   ]
  },
  {
   "cell_type": "markdown",
   "metadata": {},
   "source": [
    "### Multiplas condições "
   ]
  },
  {
   "cell_type": "markdown",
   "metadata": {},
   "source": [
    "Agora vamos supor que a empresa irá categorizar seu novo cientista de dados como júnior, pleno ou sênior, dependendo da sua experiência. Se o candidato tiver menos de 3 anos de experiência, será contratado como cientista de dados júnior, com pelo menos 3 anos e menos de 5 será contratado como cientista de dados pleno e, com pelo menos 5 anos, cientista de dados sênior. Assim, o código Python da entrevista seria:"
   ]
  },
  {
   "cell_type": "code",
   "execution_count": 26,
   "metadata": {},
   "outputs": [
    {
     "data": {
      "text/plain": [
       "'full data scientist'"
      ]
     },
     "execution_count": 26,
     "metadata": {},
     "output_type": "execute_result"
    }
   ],
   "source": [
    "languages = ['Python', 'R']\n",
    "experience = 4\n",
    "\n",
    "if not languages:\n",
    "    situation = 'unemployed'\n",
    "elif 'Python' in languages and 'R' in languages:\n",
    "    if experience < 3:\n",
    "        situation = 'junior data scientist'\n",
    "    elif experience < 5:\n",
    "        situation = 'full data scientist'\n",
    "    else:\n",
    "        situation = 'senior data scientist'\n",
    "else:\n",
    "    situation = 'developer'\n",
    "\n",
    "situation"
   ]
  },
  {
   "cell_type": "markdown",
   "metadata": {},
   "source": [
    "### Laços "
   ]
  },
  {
   "cell_type": "markdown",
   "metadata": {},
   "source": [
    "#### While "
   ]
  },
  {
   "cell_type": "markdown",
   "metadata": {},
   "source": [
    "O comando while executa um bloco de código enquanto uma expressão associada for avaliada como True, ou seja, ele funciona como um if que se repete. É preciso tomar cuidado ao usá-lo, pois se a expressão associada nunca deixar de ser avaliada como True, o código entrará em um laço infinito. Suponha que desejemos remover os elementos de uma lista e somá-los, de forma que, ao final da execução, a lista estará vazia e a variável total irá conter a soma desses valores. A operação pop(0) remove o primeiro elemento da lista (índice 0) e o retorna, nesse caso atribuindo-o à variável value."
   ]
  },
  {
   "cell_type": "code",
   "execution_count": 27,
   "metadata": {},
   "outputs": [
    {
     "data": {
      "text/plain": [
       "18"
      ]
     },
     "execution_count": 27,
     "metadata": {},
     "output_type": "execute_result"
    }
   ],
   "source": [
    "l = [3, 1, 3, 5, 6]\n",
    "\n",
    "total = 0\n",
    "\n",
    "while l:\n",
    "    value = l.pop(0)\n",
    "    total = total + value\n",
    "\n",
    "total"
   ]
  },
  {
   "cell_type": "markdown",
   "metadata": {},
   "source": [
    "#### For"
   ]
  },
  {
   "cell_type": "markdown",
   "metadata": {},
   "source": [
    "O comando for é usado para iterar sobre os elementos de uma coleção (como uma lista, tupla ou string). Seu significado é \"para cada elemento na coleção faça. O bloco de código associado é executado uma vez para cada elemento retornado pela coleção, na ordem em que os objetos são retornados. Quando os elementos acabam, as iterações terminam e, se houver um bloco else associado ao for, ele é executado.\n",
    "\n",
    "Assim como no while, é possível usar os comandos break e continue, mas seu uso neste contexto não é considerado boa prática, pois o for deve ser usado quando a quantidade de iterações é controlada, i.e. pela quantidade de elementos na lista.\n",
    "\n",
    "O for é comumente associado a coleções do tipo range que, como vimos na Seção anterior, define uma sequência de valores. Por exemplo, para somar todos os elementos em [0, 5), pode-se fazer:"
   ]
  },
  {
   "cell_type": "code",
   "execution_count": 28,
   "metadata": {},
   "outputs": [
    {
     "data": {
      "text/plain": [
       "10"
      ]
     },
     "execution_count": 28,
     "metadata": {},
     "output_type": "execute_result"
    }
   ],
   "source": [
    "total = 0\n",
    "\n",
    "for i in range(5):\n",
    "    total += i\n",
    "\n",
    "total"
   ]
  },
  {
   "cell_type": "markdown",
   "metadata": {},
   "source": [
    "Para somar todos os elementos de uma lista, pode-se fazer (note que a lista continua preenchida):"
   ]
  },
  {
   "cell_type": "code",
   "execution_count": 29,
   "metadata": {},
   "outputs": [
    {
     "data": {
      "text/plain": [
       "18"
      ]
     },
     "execution_count": 29,
     "metadata": {},
     "output_type": "execute_result"
    }
   ],
   "source": [
    "l = [3, 1, 3, 5, 6]\n",
    "total = 0\n",
    "\n",
    "for i in l:\n",
    "    total += i\n",
    "\n",
    "total"
   ]
  },
  {
   "cell_type": "markdown",
   "metadata": {},
   "source": [
    "Vimos, na Seção anterior, que coleções podem conter outras coleções. Isso significa que os elementos retornados pela coleção nas iterações do for podem ser outras coleções. Isso pode ser útil ao iterar sobre linhas de matrizes. Por exemplo:"
   ]
  },
  {
   "cell_type": "code",
   "execution_count": 30,
   "metadata": {},
   "outputs": [
    {
     "name": "stdout",
     "output_type": "stream",
     "text": [
      "[2, 1]\n",
      "[3, 2]\n"
     ]
    }
   ],
   "source": [
    "matrix = [[2, 1], [3, 2]]\n",
    "\n",
    "for row in matrix:\n",
    "    print(row)"
   ]
  },
  {
   "cell_type": "markdown",
   "metadata": {},
   "source": [
    "É possível realizar atribuições múltiplas para acessar os elementos individuais:"
   ]
  },
  {
   "cell_type": "code",
   "execution_count": 31,
   "metadata": {},
   "outputs": [
    {
     "name": "stdout",
     "output_type": "stream",
     "text": [
      "3\n",
      "5\n"
     ]
    }
   ],
   "source": [
    "matrix = [[2, 1], [3, 2]]\n",
    "\n",
    "for [i, j] in matrix:\n",
    "    print(i + j)"
   ]
  },
  {
   "cell_type": "markdown",
   "metadata": {},
   "source": [
    "Quanto iteramos sobre dicionários, acessamos suas chaves:"
   ]
  },
  {
   "cell_type": "code",
   "execution_count": 32,
   "metadata": {},
   "outputs": [
    {
     "name": "stdout",
     "output_type": "stream",
     "text": [
      "{'mean': 0, 'variance': 1}\n",
      "{'alfa': 1, 'beta': 1}\n"
     ]
    }
   ],
   "source": [
    "distributions = {\n",
    "    'Gaussian': {\n",
    "        'mean': 0,\n",
    "        'variance': 1\n",
    "    },\n",
    "    'Beta':{\n",
    "        'alfa': 1,\n",
    "        'beta': 1\n",
    "    }\n",
    "}\n",
    "\n",
    "for key in distributions:\n",
    "    parameters = distributions[key]\n",
    "    print(parameters)"
   ]
  },
  {
   "cell_type": "markdown",
   "metadata": {},
   "source": [
    "### Compreesão de listas "
   ]
  },
  {
   "cell_type": "markdown",
   "metadata": {},
   "source": [
    "Compreensão de lista (list comprehension) é um mecanismo que permite construir coleções de forma concisa a partir dos resultados de operações sobre cada membro de outras coleções. Por exemplo, o código abaixo gera uma lista com os quadrados dos valores em range(10), usando for, como vimos acima:"
   ]
  },
  {
   "cell_type": "code",
   "execution_count": 36,
   "metadata": {},
   "outputs": [
    {
     "data": {
      "text/plain": [
       "[0, 1, 4, 9, 16, 25, 36, 49, 64, 81]"
      ]
     },
     "execution_count": 36,
     "metadata": {},
     "output_type": "execute_result"
    }
   ],
   "source": [
    "squares = []\n",
    "for x in range(10):\n",
    "    squares.append(x**2)\n",
    "    \n",
    "squares"
   ]
  },
  {
   "cell_type": "markdown",
   "metadata": {},
   "source": [
    "\n",
    "\n",
    "Não é necessário que a coleção resultante da compreensão de listas tenho o mesmo número de elementos da coleção original. Por exemplo, o código abaixo só calcula os quadrados dos elementos pares (note o if aninhado no for):\n"
   ]
  },
  {
   "cell_type": "code",
   "execution_count": 37,
   "metadata": {},
   "outputs": [
    {
     "data": {
      "text/plain": [
       "[0, 4, 16, 36, 64]"
      ]
     },
     "execution_count": 37,
     "metadata": {},
     "output_type": "execute_result"
    }
   ],
   "source": [
    "squares = [x**2 for x in range(10) if x % 2 == 0]\n",
    "\n",
    "squares"
   ]
  },
  {
   "cell_type": "markdown",
   "metadata": {},
   "source": [
    "## Funções :"
   ]
  },
  {
   "cell_type": "markdown",
   "metadata": {},
   "source": [
    "Funções definem blocos de código que podem ser reutilizados sempre que necessário. Assim como as funções matemáticas, as funções de Python recebem valores de entrada (chamados de parâmetros ou argumentos) e retornam valores de saída, no entanto não é obrigatório que elas recebam entradas nem que retornem saídas. Como um exemplo simples, vamos definir a função f(x)=x2 em Python:"
   ]
  },
  {
   "cell_type": "code",
   "execution_count": 40,
   "metadata": {},
   "outputs": [
    {
     "data": {
      "text/plain": [
       "9"
      ]
     },
     "execution_count": 40,
     "metadata": {},
     "output_type": "execute_result"
    }
   ],
   "source": [
    "def f(x):\n",
    "    return x ** 2\n",
    "\n",
    "f(3)"
   ]
  },
  {
   "cell_type": "markdown",
   "metadata": {},
   "source": [
    "### Declarando valores default "
   ]
  },
  {
   "cell_type": "markdown",
   "metadata": {},
   "source": [
    "Funções podem ser definidas com valores default para seus parâmetros. Isso permite criar funções que podem ser chamadas com parâmetros omitidos. Por exemplo:"
   ]
  },
  {
   "cell_type": "code",
   "execution_count": 42,
   "metadata": {},
   "outputs": [
    {
     "data": {
      "text/plain": [
       "(9, 16, 27, 1, 1)"
      ]
     },
     "execution_count": 42,
     "metadata": {},
     "output_type": "execute_result"
    }
   ],
   "source": [
    "def power(x=3, y=2):\n",
    "    return x ** y\n",
    "\n",
    "power(), power(x=4), power(y=3), power(x=10, y=0), power(y=0, x=10)"
   ]
  },
  {
   "cell_type": "markdown",
   "metadata": {},
   "source": [
    "### Quantidade indefinida de argumentos"
   ]
  },
  {
   "cell_type": "markdown",
   "metadata": {},
   "source": [
    "É possível especifica um função que pode receber uma quantidade indefinida de argumentos. Esses parâmetros serão \"empacotados\" em uma tupla chamada args. No código abaixo, note que é preciso marcar a tupla args com um asterisco, para que Python saiba que deve alocar todos os parâmetros como elementos dela, na ordem que são passados."
   ]
  },
  {
   "cell_type": "code",
   "execution_count": 45,
   "metadata": {},
   "outputs": [
    {
     "name": "stdout",
     "output_type": "stream",
     "text": [
      "1\n",
      "2\n",
      "a\n",
      "1\n",
      "4\n",
      "teste\n",
      "-1\n"
     ]
    }
   ],
   "source": [
    "def print_all(*args):\n",
    "    for arg in args:\n",
    "        print(arg)\n",
    "        \n",
    "print_all(1, 2, 'a', 1, 4, 'teste', -1)"
   ]
  },
  {
   "cell_type": "markdown",
   "metadata": {},
   "source": [
    "Na definição de uma função com quantidade indefinida de argumentos, é possível declarar parâmetros normalmente antes da declaração *args. Quaisquer parâmetros passados além dos parâmetros definidos normalmente serão alocados em args:"
   ]
  },
  {
   "cell_type": "code",
   "execution_count": 47,
   "metadata": {},
   "outputs": [
    {
     "name": "stdout",
     "output_type": "stream",
     "text": [
      "Gaussian with mean: 0 and variance: 1\n"
     ]
    }
   ],
   "source": [
    "def print_all(message, mean=0, variance=1, *args):\n",
    "    print(message.format(mean, variance))\n",
    "    for arg in args:\n",
    "        print(message.format(arg, variance))\n",
    "\n",
    "print_all('Gaussian with mean: {0} and variance: {1}')"
   ]
  },
  {
   "cell_type": "code",
   "execution_count": 48,
   "metadata": {},
   "outputs": [
    {
     "name": "stdout",
     "output_type": "stream",
     "text": [
      "Gaussian with mean: 1 and variance: 1\n"
     ]
    }
   ],
   "source": [
    "print_all('Gaussian with mean: {0} and variance: {1}', 1)"
   ]
  },
  {
   "cell_type": "code",
   "execution_count": 49,
   "metadata": {},
   "outputs": [
    {
     "name": "stdout",
     "output_type": "stream",
     "text": [
      "Gaussian with mean: 1 and variance: 4\n"
     ]
    }
   ],
   "source": [
    "print_all('Gaussian with mean: {0} and variance: {1}', 1, 4)"
   ]
  },
  {
   "cell_type": "code",
   "execution_count": 50,
   "metadata": {},
   "outputs": [
    {
     "name": "stdout",
     "output_type": "stream",
     "text": [
      "Gaussian with mean: 1 and variance: 4\n",
      "Gaussian with mean: 0 and variance: 4\n",
      "Gaussian with mean: 3 and variance: 4\n",
      "Gaussian with mean: -1 and variance: 4\n",
      "Gaussian with mean: 7 and variance: 4\n"
     ]
    }
   ],
   "source": [
    "print_all('Gaussian with mean: {0} and variance: {1}', 1, 4, 0, 3, -1, 7)"
   ]
  },
  {
   "cell_type": "markdown",
   "metadata": {},
   "source": [
    "O código acima apresenta erro porque foram passados argumentos por nome antes de argumentos posicionais. Python também permite que uma função seja chamada com uma quantidade indefinida de parâmetros por nome. Para isso, é preciso declarar o parâmetro kwargs, que irá representar um dicionário em que Python irá alocar todos os parâmetros passados por nome que não foram pré-definidos na chamada da função. O parâmetro kwargs deve ser marcado por asteriscos duplos na definição da função. Exemplo:"
   ]
  },
  {
   "cell_type": "code",
   "execution_count": 51,
   "metadata": {},
   "outputs": [
    {
     "name": "stdout",
     "output_type": "stream",
     "text": [
      "param1 1\n",
      "param2 2\n",
      "param3 -1\n"
     ]
    }
   ],
   "source": [
    "def print_all(**kwargs):\n",
    "    for key in kwargs:\n",
    "        print(key, kwargs[key])\n",
    "\n",
    "print_all(param1=1, param2=2, param3=-1)"
   ]
  },
  {
   "cell_type": "markdown",
   "metadata": {},
   "source": [
    "É possível definir uma função com parâmetros normais e quantidade indefinida de parâmetros posicionais e de parâmetros por nome, combinando *args e **kwargs. Nesse caso, é preciso declarar os parâmetros normais, args e kwargs nessa ordem."
   ]
  },
  {
   "cell_type": "code",
   "execution_count": 52,
   "metadata": {},
   "outputs": [
    {
     "name": "stdout",
     "output_type": "stream",
     "text": [
      "Gaussian with mean: 1 and variance: 4\n",
      "Gaussian with mean: 0 and variance: 4\n",
      "Gaussian with mean: 3 and variance: 4\n",
      "Gaussian with mean: -1 and variance: 4\n",
      "Gaussian with mean: 7 and variance: 4\n",
      "param1 1\n",
      "param2 2\n",
      "param3 -1\n"
     ]
    }
   ],
   "source": [
    "def print_all(message, mean=0, variance=1, *args, **kwargs):\n",
    "    print(message.format(mean, variance))\n",
    "    for arg in args:\n",
    "        print(message.format(arg, variance))\n",
    "    for key in kwargs:\n",
    "        print(key, kwargs[key])\n",
    "\n",
    "print_all('Gaussian with mean: {0} and variance: {1}', 1, 4, 0, 3, -1, 7, param1=1, param2=2, param3=-1)\n"
   ]
  },
  {
   "cell_type": "markdown",
   "metadata": {},
   "source": [
    "Os operadores * e ** também são úteis para chamar funções \"desempacotando\" listas/tuplas e dicionários para preencher argumentos posicionais e por nome, respectivamente. Exemplos:"
   ]
  },
  {
   "cell_type": "code",
   "execution_count": 53,
   "metadata": {},
   "outputs": [
    {
     "data": {
      "text/plain": [
       "[3, 4, 5, 6, 7, 8, 9]"
      ]
     },
     "execution_count": 53,
     "metadata": {},
     "output_type": "execute_result"
    }
   ],
   "source": [
    "args = [3, 10]\n",
    "list(range(*args))"
   ]
  },
  {
   "cell_type": "code",
   "execution_count": 54,
   "metadata": {},
   "outputs": [
    {
     "name": "stdout",
     "output_type": "stream",
     "text": [
      "90\n"
     ]
    }
   ],
   "source": [
    "def print_sum(param1=1, param2=2, param3=-1):\n",
    "    print(param1 + param2 + param3)\n",
    "    \n",
    "params = {\n",
    "    'param1': 20, \n",
    "    'param2': 30, \n",
    "    'param3': 40\n",
    "}\n",
    "\n",
    "print_sum(**params)"
   ]
  },
  {
   "cell_type": "markdown",
   "metadata": {},
   "source": [
    "### Passando funções como argumentos "
   ]
  },
  {
   "cell_type": "markdown",
   "metadata": {},
   "source": [
    "Como mencionado acima, a definição de uma função cria uma variável com o mesmo nome, cujo valor é do tipo função. Portanto funções também podem ser passadas como parâmetros para outras funções. O código abaixo define uma função que recebe um valor x e uma função oper, que define que operação será realizada com o valor de x:"
   ]
  },
  {
   "cell_type": "code",
   "execution_count": 56,
   "metadata": {},
   "outputs": [
    {
     "data": {
      "text/plain": [
       "9"
      ]
     },
     "execution_count": 56,
     "metadata": {},
     "output_type": "execute_result"
    }
   ],
   "source": [
    "def square(x):\n",
    "    return x ** 2\n",
    "\n",
    "def perform_oper(x, oper):\n",
    "    return oper(x)\n",
    "\n",
    "perform_oper(3, square)"
   ]
  },
  {
   "cell_type": "markdown",
   "metadata": {},
   "source": [
    "Em Python, é possível usar o operador lambda para definir funções pequenas (que ocupam apenas uma linha). Isso pode ser útil para definir funções simples que não serão usadas em outros módulos ou em várias partes diferentes do código. O operador lambda retorna um valor do tipo função, portanto para usar a função assim definida, pode-se atribuí-la a uma variável:"
   ]
  },
  {
   "cell_type": "code",
   "execution_count": 57,
   "metadata": {},
   "outputs": [
    {
     "data": {
      "text/plain": [
       "27"
      ]
     },
     "execution_count": 57,
     "metadata": {},
     "output_type": "execute_result"
    }
   ],
   "source": [
    "cube = lambda x: x ** 3\n",
    "\n",
    "cube(3)"
   ]
  },
  {
   "cell_type": "code",
   "execution_count": 58,
   "metadata": {},
   "outputs": [
    {
     "data": {
      "text/plain": [
       "81"
      ]
     },
     "execution_count": 58,
     "metadata": {},
     "output_type": "execute_result"
    }
   ],
   "source": [
    "def perform_oper(x, oper):\n",
    "    return oper(x)\n",
    "\n",
    "perform_oper(3, lambda x: x ** 4)"
   ]
  },
  {
   "cell_type": "code",
   "execution_count": 65,
   "metadata": {},
   "outputs": [],
   "source": [
    "def parimp(n):\n",
    "    if n % 2 == 0:\n",
    "        print('Seu numero é par')\n",
    "    else:\n",
    "        print('Seu numero é impar')"
   ]
  },
  {
   "cell_type": "code",
   "execution_count": 66,
   "metadata": {},
   "outputs": [
    {
     "name": "stdout",
     "output_type": "stream",
     "text": [
      "Seu numero é impar\n"
     ]
    }
   ],
   "source": [
    "parimp(1)"
   ]
  },
  {
   "cell_type": "code",
   "execution_count": 67,
   "metadata": {},
   "outputs": [
    {
     "name": "stdout",
     "output_type": "stream",
     "text": [
      "Seu numero é par\n"
     ]
    }
   ],
   "source": [
    "parimp(2)"
   ]
  },
  {
   "cell_type": "code",
   "execution_count": 74,
   "metadata": {},
   "outputs": [
    {
     "name": "stdout",
     "output_type": "stream",
     "text": [
      "Seu numero é multiplo de 4 e Seu numero é par\n",
      "Seu numero é par\n"
     ]
    }
   ],
   "source": [
    "def parimp(n):\n",
    "    if n % 2 == 0:\n",
    "        if n % 4 == 0:\n",
    "            print('Seu numero é multiplo de 4 e Seu numero é par')\n",
    "        print('Seu numero é par')\n",
    "    else:\n",
    "        print('Seu numero é impar')\n",
    "        \n",
    "parimp(4)"
   ]
  },
  {
   "cell_type": "code",
   "execution_count": 79,
   "metadata": {},
   "outputs": [
    {
     "name": "stdout",
     "output_type": "stream",
     "text": [
      "1\n",
      "4\n",
      "2\n",
      "3\n",
      "2\n",
      "1\n",
      "-1\n",
      "0\n"
     ]
    }
   ],
   "source": [
    "a = [1, 4, 2, 3, 2, 1, 5, 8, 5, 7, -1, 0, 23]\n",
    "\n",
    "for i in range(0, len(a)):\n",
    "    if a[i] < 5:\n",
    "        print(a[i])"
   ]
  },
  {
   "cell_type": "code",
   "execution_count": 82,
   "metadata": {},
   "outputs": [],
   "source": [
    "def fibnacci(n):\n",
    "    if n <= 1:\n",
    "        return n\n",
    "    else:\n",
    "        return fibnacci(n - 1) + fibnacci(n - 2)"
   ]
  },
  {
   "cell_type": "code",
   "execution_count": 83,
   "metadata": {},
   "outputs": [
    {
     "data": {
      "text/plain": [
       "5"
      ]
     },
     "execution_count": 83,
     "metadata": {},
     "output_type": "execute_result"
    }
   ],
   "source": [
    "fibnacci(n = 5)"
   ]
  },
  {
   "cell_type": "code",
   "execution_count": 84,
   "metadata": {},
   "outputs": [
    {
     "data": {
      "text/plain": [
       "1"
      ]
     },
     "execution_count": 84,
     "metadata": {},
     "output_type": "execute_result"
    }
   ],
   "source": [
    "fibnacci(n = 1)"
   ]
  },
  {
   "cell_type": "code",
   "execution_count": 86,
   "metadata": {},
   "outputs": [
    {
     "data": {
      "text/plain": [
       "8"
      ]
     },
     "execution_count": 86,
     "metadata": {},
     "output_type": "execute_result"
    }
   ],
   "source": [
    "fibnacci(n = 6)"
   ]
  },
  {
   "cell_type": "code",
   "execution_count": null,
   "metadata": {},
   "outputs": [],
   "source": []
  }
 ],
 "metadata": {
  "kernelspec": {
   "display_name": "Python 3",
   "language": "python",
   "name": "python3"
  },
  "language_info": {
   "codemirror_mode": {
    "name": "ipython",
    "version": 3
   },
   "file_extension": ".py",
   "mimetype": "text/x-python",
   "name": "python",
   "nbconvert_exporter": "python",
   "pygments_lexer": "ipython3",
   "version": "3.7.3"
  }
 },
 "nbformat": 4,
 "nbformat_minor": 2
}
