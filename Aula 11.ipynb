{
 "cells": [
  {
   "cell_type": "markdown",
   "metadata": {},
   "source": [
    "# Scipy\n"
   ]
  },
  {
   "cell_type": "markdown",
   "metadata": {},
   "source": [
    "## Funções para integração \n",
    "\n",
    "O módulo __integrate__ oferece diversas funções para calcular integrais. A primeira delas é a função __quad__, que permite computar uma integral definida de uma variável:"
   ]
  },
  {
   "cell_type": "code",
   "execution_count": 4,
   "metadata": {},
   "outputs": [
    {
     "name": "stdout",
     "output_type": "stream",
     "text": [
      "resultado: 2.666666666666667, erro: 2.960594732333751e-14\n"
     ]
    }
   ],
   "source": [
    "from scipy.integrate import quad\n",
    "\n",
    "x2 = lambda x: x**2\n",
    "integral = quad(x2, 0, 2)\n",
    "print('resultado: {}, erro: {}'.format(integral[0], integral[1]))"
   ]
  },
  {
   "cell_type": "code",
   "execution_count": 6,
   "metadata": {},
   "outputs": [
    {
     "name": "stdout",
     "output_type": "stream",
     "text": [
      "P(-3 < X < 3): 0.9973002039367399, erro: 1.1072256488739329e-14\n"
     ]
    }
   ],
   "source": [
    "import numpy as np\n",
    "\n",
    "def normal_fdp(x, mu, sigma_2):\n",
    "    return np.exp(-(x - mu) ** 2 / (2 * sigma_2)) / np.sqrt(2 * np.pi * sigma_2)\n",
    "\n",
    "standard_fdp = lambda x: normal_fdp(x, 0, 1)\n",
    "integral = quad(standard_fdp, -3, 3)\n",
    "print('P(-3 < X < 3): {}, erro: {}'.format(integral[0], integral[1]))"
   ]
  },
  {
   "cell_type": "markdown",
   "metadata": {},
   "source": [
    "Para computar integrais duplas, triplas e sobre múltiplas variáveis, o módulo oferece respectivamente as funções dblquad, tplquad e nquad."
   ]
  },
  {
   "cell_type": "markdown",
   "metadata": {},
   "source": [
    "## Funções para interporlação\n",
    "\n",
    "Para interpolar funções 1D, o ódulo interpolate possui a função interp1d. Essa função é chamada com dois vetores x e y e retorna uma função que pode ser chamda para usar interpolação e encontrar novos valores de y para novos valores de x."
   ]
  },
  {
   "cell_type": "code",
   "execution_count": 8,
   "metadata": {},
   "outputs": [
    {
     "data": {
      "image/png": "[encoded data removed]",
      "text/plain": [
       "<Figure size 432x288 with 1 Axes>"
      ]
     },
     "metadata": {
      "needs_background": "light"
     },
     "output_type": "display_data"
    }
   ],
   "source": [
    "import matplotlib.pyplot as plt\n",
    "from scipy.interpolate import interp1d\n",
    "\n",
    "x = np.arange(0, 10)\n",
    "y = np.exp(-x / 3.0)\n",
    "f = interp1d(x, y)\n",
    "\n",
    "x_new = np.arange(0, 9, 0.1)\n",
    "y_new = f(x_new)\n",
    "plt.plot(x, y, 'o', x_new, y_new, '-')\n",
    "plt.show()"
   ]
  },
  {
   "cell_type": "markdown",
   "metadata": {},
   "source": [
    "## Funções Espaciais\n",
    "\n",
    "O módulo spatial contém diversas funções para calcular distâncias, realizar transformações espaciais, encontrar envólucros convexos, etc. As mais de 20 funções de distâncias são encontradas no submódulo spatial.distance e incluem distâncias entre vetores e entre linhas de matrizes. A função pdist permite calcular as distâncias par-a-par entre as linhas de uma matriz X:"
   ]
  },
  {
   "cell_type": "code",
   "execution_count": 11,
   "metadata": {},
   "outputs": [
    {
     "name": "stdout",
     "output_type": "stream",
     "text": [
      "[[ 0  1  2]\n",
      " [ 3  4  5]\n",
      " [ 6  7  8]\n",
      " [ 9 10 11]]\n",
      "[ 5.19615242 10.39230485 15.58845727  5.19615242 10.39230485  5.19615242]\n"
     ]
    }
   ],
   "source": [
    "from scipy.spatial.distance import pdist\n",
    "\n",
    "X = np.arange(12).reshape(4, 3)\n",
    "print(X)\n",
    "print(pdist(X))"
   ]
  },
  {
   "cell_type": "markdown",
   "metadata": {},
   "source": [
    "O retorno da função pdist é uma matriz condensada na forma de um vetor, para economizar espaço. A ideia é que a matriz de distâncias original tem diagonal 0 e valores espelhados. Para recuperar a matriz quadrada original, pode-se usar a função squareform:"
   ]
  },
  {
   "cell_type": "code",
   "execution_count": 13,
   "metadata": {},
   "outputs": [
    {
     "name": "stdout",
     "output_type": "stream",
     "text": [
      "[[ 0.          5.19615242 10.39230485 15.58845727]\n",
      " [ 5.19615242  0.          5.19615242 10.39230485]\n",
      " [10.39230485  5.19615242  0.          5.19615242]\n",
      " [15.58845727 10.39230485  5.19615242  0.        ]]\n"
     ]
    }
   ],
   "source": [
    "from scipy.spatial.distance import squareform\n",
    "\n",
    "print(squareform(pdist(X)))"
   ]
  },
  {
   "cell_type": "markdown",
   "metadata": {},
   "source": [
    "A função pdist permite escolher a métrica de distância utilizada, tendo a distância Euclidiana como padrão. Por exemplo, para se calcular a distância Euclidiana quadrática, pode-se fazer:"
   ]
  },
  {
   "cell_type": "code",
   "execution_count": 16,
   "metadata": {},
   "outputs": [
    {
     "name": "stdout",
     "output_type": "stream",
     "text": [
      "[[  0.  27. 108. 243.]\n",
      " [ 27.   0.  27. 108.]\n",
      " [108.  27.   0.  27.]\n",
      " [243. 108.  27.   0.]]\n"
     ]
    }
   ],
   "source": [
    "print(squareform(pdist(X, metric='sqeuclidean')))"
   ]
  },
  {
   "cell_type": "markdown",
   "metadata": {},
   "source": [
    "Para calcular as distâncias entre as linhas de uma matriz  A  e as de uma matriz  B , usa-se a função cdist, que, assim como a função pdist, permite escolher a métrica."
   ]
  },
  {
   "cell_type": "code",
   "execution_count": 19,
   "metadata": {},
   "outputs": [
    {
     "name": "stdout",
     "output_type": "stream",
     "text": [
      "[[ 0  1  2]\n",
      " [ 3  4  5]\n",
      " [ 6  7  8]\n",
      " [ 9 10 11]\n",
      " [12 13 14]\n",
      " [15 16 17]\n",
      " [18 19 20]\n",
      " [21 22 23]\n",
      " [24 25 26]\n",
      " [27 28 29]]\n",
      "\n",
      "[[0.43702014 0.51396155 0.64895313]\n",
      " [0.68624643 0.02084059 0.65149661]\n",
      " [0.18397449 0.26180928 0.72634864]\n",
      " [0.52309202 0.80492053 0.65898785]]\n",
      "\n",
      "[[ 2.27410547  3.01390923  2.19581657  2.05918364]\n",
      " [10.40006518 10.64141637 10.82786759 10.01299961]\n",
      " [19.40006518 19.64141637 19.82786759 19.01299961]\n",
      " [28.40006518 28.64141637 28.82786759 28.01299961]\n",
      " [37.40006518 37.64141637 37.82786759 37.01299961]\n",
      " [46.40006518 46.64141637 46.82786759 46.01299961]\n",
      " [55.40006518 55.64141637 55.82786759 55.01299961]\n",
      " [64.40006518 64.64141637 64.82786759 64.01299961]\n",
      " [73.40006518 73.64141637 73.82786759 73.01299961]\n",
      " [82.40006518 82.64141637 82.82786759 82.01299961]]\n"
     ]
    }
   ],
   "source": [
    "from scipy.spatial.distance import cdist\n",
    "\n",
    "A = np.arange(30).reshape(10, 3)\n",
    "B = np.random.random((4, 3))\n",
    "\n",
    "print(A)\n",
    "print()\n",
    "print(B)\n",
    "print()\n",
    "print(cdist(A, B, metric='cityblock'))"
   ]
  },
  {
   "cell_type": "markdown",
   "metadata": {},
   "source": [
    "## Funções de otimização"
   ]
  },
  {
   "cell_type": "markdown",
   "metadata": {},
   "source": [
    "O módulo optimize oferece funções para minimização ou maximização de funções objetivo, com a possibilidade de forçar restrições. A principal função desse módulo é a minimize, que precisa receber como parâmetros uma função que será minimizada e uma solução inicial. Outros parâmetros incluem argumentos extras para a função minimizada, o método de minimização escolhido (padrão BFGS), possíveis restrições, uma função para calcular a Hessiana, um parâmetro e tolerância para critério de parada, entre outros."
   ]
  },
  {
   "cell_type": "code",
   "execution_count": 22,
   "metadata": {},
   "outputs": [
    {
     "name": "stdout",
     "output_type": "stream",
     "text": [
      "[-4.14270251e-08]\n"
     ]
    }
   ],
   "source": [
    "from scipy.optimize import minimize\n",
    "\n",
    "f = lambda x: x ** 2\n",
    "x0 = 10\n",
    "\n",
    "res = minimize(f, x0)\n",
    "print(res.x)\n"
   ]
  },
  {
   "cell_type": "code",
   "execution_count": 23,
   "metadata": {},
   "outputs": [
    {
     "name": "stdout",
     "output_type": "stream",
     "text": [
      "[-7.45036449e-09]\n"
     ]
    }
   ],
   "source": [
    "x0 = 1\n",
    "res = minimize(f, x0)\n",
    "print(res.x)"
   ]
  },
  {
   "cell_type": "code",
   "execution_count": 29,
   "metadata": {},
   "outputs": [
    {
     "name": "stdout",
     "output_type": "stream",
     "text": [
      "[2.88291837e-15]\n"
     ]
    }
   ],
   "source": [
    "x0 = 10\n",
    "bounds = [(0, None)]\n",
    "\n",
    "res = minimize(f, x0, bounds=bounds)\n",
    "print(res.x)"
   ]
  },
  {
   "cell_type": "code",
   "execution_count": 27,
   "metadata": {},
   "outputs": [
    {
     "name": "stdout",
     "output_type": "stream",
     "text": [
      "[0.]\n"
     ]
    }
   ],
   "source": [
    "x0 = 1\n",
    "bounds = [(0, None)]\n",
    "\n",
    "res = minimize(f, x0, bounds=bounds)\n",
    "print(res.x)"
   ]
  },
  {
   "cell_type": "markdown",
   "metadata": {},
   "source": [
    "A função minimize pode ser usada para estimar modelos. Por exemplo, vamos usá-la para estimar um modelo de regressão linear:"
   ]
  },
  {
   "cell_type": "code",
   "execution_count": 36,
   "metadata": {},
   "outputs": [
    {
     "name": "stdout",
     "output_type": "stream",
     "text": [
      "[2.17478032 2.84521493]\n"
     ]
    }
   ],
   "source": [
    "np.random.seed(42)\n",
    "X = np.random.random(1000)\n",
    "y = 3 * X + 2 + np.random.normal(size=1000)\n",
    "\n",
    "betas = np.random.normal(size=2)\n",
    "\n",
    "sq_err = lambda b, x, y: np.mean(((x*b[1] + b[0]) - y) ** 2)\n",
    "\n",
    "res = minimize(sq_err, betas, args=(X, y))\n",
    "print(res.x)"
   ]
  },
  {
   "cell_type": "markdown",
   "metadata": {},
   "source": [
    "**Exercicio**"
   ]
  },
  {
   "cell_type": "code",
   "execution_count": 66,
   "metadata": {},
   "outputs": [
    {
     "name": "stdout",
     "output_type": "stream",
     "text": [
      "originais: [[4]\n",
      " [2]\n",
      " [0]\n",
      " [4]]\n",
      "[ 3.97460971  2.0133879  -0.01191115  4.06997395]\n"
     ]
    }
   ],
   "source": [
    "import numpy as np\n",
    "np.random.seed(42)\n",
    "\n",
    "p = 3\n",
    "n = 10000\n",
    "X = np.random.random((n,p))\n",
    "coef = np.random.randint(5, size = (p + 1, 1))\n",
    "\n",
    "print('originais: {}'.format(coef))\n",
    "\n",
    "y = X @ coef[1:] + coef[0] + np.random.normal(size = (n, 1))\n",
    "\n",
    "betas = np.random.random(size = (p+1, 1))\n",
    "\n",
    "sq_err = lambda b, x, y: np.mean(((x @ b[1:] + b[0]).reshape(-1, 1) - y)**(2))\n",
    "\n",
    "res = minimize(sq_err, betas, args = (X,y))\n",
    "print(res.x)"
   ]
  },
  {
   "cell_type": "code",
   "execution_count": 52,
   "metadata": {},
   "outputs": [
    {
     "data": {
      "text/plain": [
       "array([2.53052561, 2.54256004])"
      ]
     },
     "execution_count": 52,
     "metadata": {},
     "output_type": "execute_result"
    }
   ],
   "source": []
  }
 ],
 "metadata": {
  "kernelspec": {
   "display_name": "Python 3",
   "language": "python",
   "name": "python3"
  },
  "language_info": {
   "codemirror_mode": {
    "name": "ipython",
    "version": 3
   },
   "file_extension": ".py",
   "mimetype": "text/x-python",
   "name": "python",
   "nbconvert_exporter": "python",
   "pygments_lexer": "ipython3",
   "version": "3.7.4"
  }
 },
 "nbformat": 4,
 "nbformat_minor": 2
}
