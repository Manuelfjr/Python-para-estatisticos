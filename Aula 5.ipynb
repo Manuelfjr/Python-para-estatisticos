{
 "cells": [
  {
   "cell_type": "markdown",
   "metadata": {},
   "source": [
    "# Continuando Objetos e Classes"
   ]
  },
  {
   "cell_type": "markdown",
   "metadata": {},
   "source": [
    "## BinomialDistribution"
   ]
  },
  {
   "cell_type": "code",
   "execution_count": 15,
   "metadata": {},
   "outputs": [
    {
     "name": "stdout",
     "output_type": "stream",
     "text": [
      "PMF de 5 é 0.13230000000000006\n",
      "CDF de 9 é 1.0955337763584054\n",
      "MEAN de 3.5\n",
      "VARIANCE de 1.0500000000000003\n"
     ]
    }
   ],
   "source": [
    "def fator(n):\n",
    "    fator = 1\n",
    "    for i in range(1, n + 1):\n",
    "        fator = fator * i\n",
    "    \n",
    "    return fator\n",
    "class BinomialDistribution:\n",
    "    \n",
    "    def __init__(self, n, p):\n",
    "        self.p = p\n",
    "        self.n = n\n",
    "\n",
    "    def pmf(self, x):\n",
    "        return (fator(self.n)/(fator(x) * (fator(self.n - x))) *\n",
    "        self.p**(x) * (1 - self.p)**(self.n - x))\n",
    "    \n",
    "    def cdf(self, x):\n",
    "        cdf = 0\n",
    "        for i in range(0, x + 1):\n",
    "            cdf = self.pmf(i) + cdf\n",
    "        return cdf\n",
    "\n",
    "    def mean(self):\n",
    "        return self.n*self.p\n",
    "\n",
    "    def variance(self):\n",
    "        return self.n * self.p * (1 - self.p)\n",
    "\n",
    "bd = BinomialDistribution(5, 0.7)\n",
    "\n",
    "print('PMF de {} é {}'.format(5 ,bd.pmf(2)))\n",
    "print('CDF de {} é {}'.format(9 ,bd.cdf(10)))\n",
    "print('MEAN de {}'.format(bd.mean()))\n",
    "print('VARIANCE de {}'.format(bd.variance()))"
   ]
  },
  {
   "cell_type": "markdown",
   "metadata": {},
   "source": [
    "## PoissonDistribution"
   ]
  },
  {
   "cell_type": "code",
   "execution_count": 16,
   "metadata": {},
   "outputs": [
    {
     "name": "stdout",
     "output_type": "stream",
     "text": [
      "PMF de 5 é 0.17546736976785074\n",
      "CDF de 9 é 0.9863047314016172\n",
      "MEAN de 5\n",
      "VARIANCE de 5\n"
     ]
    }
   ],
   "source": [
    "import math\n",
    "\n",
    "class PoissonDistribution:\n",
    "    \n",
    "    def __init__(self, lbd):\n",
    "        self.lbd = lbd\n",
    "\n",
    "    def pmf(self, x):\n",
    "        return math.e**(-self.lbd) * self.lbd**(x)/(fator(x))\n",
    "    \n",
    "    def cdf(self, x):\n",
    "        ac = 0\n",
    "        for i in range(0, x + 1):\n",
    "            ac = self.pmf(i) + ac\n",
    "        return ac\n",
    "\n",
    "    def mean(self):\n",
    "        return self.lbd\n",
    "\n",
    "    def variance(self):\n",
    "        return self.lbd\n",
    "\n",
    "ps = PoissonDistribution(5)\n",
    "\n",
    "print('PMF de {} é {}'.format(5 ,ps.pmf(5)))\n",
    "print('CDF de {} é {}'.format(9 ,ps.cdf(10)))\n",
    "print('MEAN de {}'.format(ps.mean()))\n",
    "print('VARIANCE de {}'.format(ps.variance()))"
   ]
  },
  {
   "cell_type": "markdown",
   "metadata": {},
   "source": [
    "# Herança e Polimorfismo"
   ]
  },
  {
   "cell_type": "markdown",
   "metadata": {},
   "source": [
    "Herança é um mecanismo que permite basear uma classe em outra, mantendo uma implementação similar e formando uma hierarquia de classes. A classe derivada é chamada de subclasse enqunto a classe base é chamada de super classe. Um objeto de uma subclasse mantém todos os atributos e métodos definidos na super classe. O mecanismo de herança é útil quando certos comportamentos (métodos) iguai são esperados para objetos de diferentes tipos ou para facilitar o reuso de código. É importante diferenciar herança de composição de objetos. A composição se dá quando um objeto contém outro(s) objeto(s), ou seja, há uma relação de posse de um objeto para outro.\n",
    "\n",
    "Vejamos um exemplo :\n"
   ]
  },
  {
   "cell_type": "code",
   "execution_count": 3,
   "metadata": {},
   "outputs": [
    {
     "name": "stdout",
     "output_type": "stream",
     "text": [
      "################## Binomial ##################\n",
      "Média: 3.5\n",
      "Variância: 1.0500000000000003\n",
      "PMF de 2: 0.13230000000000006\n",
      "CDF de 2: 0.16308000000000009\n",
      "\n",
      "################## Poisson ##################\n",
      "Média: 5\n",
      "Variância: 5\n",
      "PMF de 2: 0.08422433748856836\n",
      "CDF de 2: 0.12465201948308118\n"
     ]
    }
   ],
   "source": [
    "import math\n",
    "\n",
    "class DiscreteDistribution:\n",
    "    \n",
    "    def __init__(self, params):\n",
    "        self.params = params\n",
    "        \n",
    "    def pmf(self, x):\n",
    "        pass\n",
    "    \n",
    "    def cdf(self, x):\n",
    "        total = 0\n",
    "        for v in range(x + 1):\n",
    "            total += self.pmf(v)\n",
    "        return total\n",
    "    \n",
    "    def mean(self):\n",
    "        pass\n",
    "    \n",
    "    def variance(self):\n",
    "        pass\n",
    "    \n",
    "class BinomialDistribution(DiscreteDistribution):\n",
    "    \n",
    "    def pmf(self, x):\n",
    "        \n",
    "        n, p = self.params['n'], self.params['p']\n",
    "        \n",
    "        def factorial(n):\n",
    "            prod = 1\n",
    "            for i in range(1, n + 1):\n",
    "                prod *= i\n",
    "            return prod\n",
    "\n",
    "        def combination(n, x):\n",
    "            return factorial(n) / (factorial(x) * factorial(n - x))\n",
    "\n",
    "        return combination(n, x) * p ** x * (1.0 - p) ** (n - x) \n",
    "    \n",
    "    def mean(self):\n",
    "        return self.params['n'] * self.params['p']\n",
    "    \n",
    "    def variance(self):\n",
    "        return self.params['n'] * self.params['p'] * (1 - self.params['p'])\n",
    "\n",
    "class PoissonDistribution(DiscreteDistribution):\n",
    "    \n",
    "    def pmf(self, x):\n",
    "        \n",
    "        l = self.params['lambda']\n",
    "        \n",
    "        def factorial(n):\n",
    "            prod = 1\n",
    "            for i in range(1, n + 1):\n",
    "                prod *= i\n",
    "            return prod\n",
    "\n",
    "        return (l ** x * math.e ** (-l)) / factorial(x)\n",
    "    \n",
    "    def mean(self):\n",
    "        return self.params['lambda']\n",
    "    \n",
    "    def variance(self):\n",
    "        return self.params['lambda']\n",
    "\n",
    "binomial = BinomialDistribution(params={'n': 5, 'p': 0.7})\n",
    "print('################## Binomial ##################')\n",
    "print('Média: {}'.format(binomial.mean()))\n",
    "print('Variância: {}'.format(binomial.variance()))\n",
    "print('PMF de 2: {}'.format(binomial.pmf(2)))\n",
    "print('CDF de 2: {}'.format(binomial.cdf(2)))\n",
    "\n",
    "print()\n",
    "\n",
    "poisson = PoissonDistribution(params={'lambda': 5})\n",
    "print('################## Poisson ##################')\n",
    "print('Média: {}'.format(poisson.mean()))\n",
    "print('Variância: {}'.format(poisson.variance()))\n",
    "print('PMF de 2: {}'.format(poisson.pmf(2)))\n",
    "print('CDF de 2: {}'.format(poisson.cdf(2)))"
   ]
  },
  {
   "cell_type": "markdown",
   "metadata": {},
   "source": [
    "Como subclasses dessa classe base (note o nome da super classe entre parênteses após o nome da subclasse), temos BinomialDistribution e PoissonDistribution. Ambas implementam os métodos pmf, mean e variance de acordo com a distribuição de probabilidade representada. Após declarar as subclasses, o código cria um objeto de cada uma delas e executa seus métodos. Note que, apesar de as subclases não declarararem o método cdf ambos, os objetos podem chamá-lo. Isto ocorre porque as subclasses herdam este método da sua superclasse. Note que, internamente, o método cdf chama o método pmf, cuja implementação ficou sob responsabilidade das subclasses. Isso significa que parte do comportamento do método cdf é modificado pelas implementações das subclasses. Em programação orientada a objetos, esse conceito (comportamentos parcialmente diferentes entre subclasses) é chamado de polimorfismo."
   ]
  },
  {
   "cell_type": "markdown",
   "metadata": {},
   "source": [
    "**Definindo Polimorfismo :** Comportamentos parcialmente distintos , entre suas subclasses"
   ]
  },
  {
   "cell_type": "markdown",
   "metadata": {},
   "source": [
    "**Sobrescrição do método :** Caso escreva-se um metodo que esta implementado na 'Mãe', e reimplementar em uma 'filha', a resposta será considerado retorno do metodo da filha,, sobrescrevendo a 'Mãe' "
   ]
  },
  {
   "cell_type": "markdown",
   "metadata": {},
   "source": [
    "**Operador _super()_ :** Ele acessa dentro de uma subclasse, um metodo implementado na 'Mãe'"
   ]
  },
  {
   "cell_type": "markdown",
   "metadata": {},
   "source": [
    "# Herança Múltipla "
   ]
  },
  {
   "cell_type": "markdown",
   "metadata": {},
   "source": [
    "Uma classe pode ser subclasse de várias classes ao mesmo tempo. Para isso, basta declarar os nomes das super classes separados por vírgulas. O código abaixo declara uma classe, chamada Printable, que possui apenas um método str, que retorna os parâmetros do objeto em uma string formatada. O método str é chamado por Python quando um objeto é passado como parâmetro para a função print. Após declarar a classe Printable, as classes das distribuições são declaradas novamente, dessa vez herdando de DiscreteDistribution e de Printable. Note que ambas as classes agora redefinem o construtor, adicionando o atributo name."
   ]
  },
  {
   "cell_type": "code",
   "execution_count": 6,
   "metadata": {},
   "outputs": [
    {
     "ename": "TypeError",
     "evalue": "__init__() missing 1 required positional argument: 'params'",
     "output_type": "error",
     "traceback": [
      "\u001b[1;31m---------------------------------------------------------------------------\u001b[0m",
      "\u001b[1;31mTypeError\u001b[0m                                 Traceback (most recent call last)",
      "\u001b[1;32m<ipython-input-6-95fe63482831>\u001b[0m in \u001b[0;36m<module>\u001b[1;34m\u001b[0m\n\u001b[0;32m     50\u001b[0m         \u001b[1;32mreturn\u001b[0m \u001b[0mself\u001b[0m\u001b[1;33m.\u001b[0m\u001b[0mparams\u001b[0m\u001b[1;33m[\u001b[0m\u001b[1;34m'lambda'\u001b[0m\u001b[1;33m]\u001b[0m\u001b[1;33m\u001b[0m\u001b[1;33m\u001b[0m\u001b[0m\n\u001b[0;32m     51\u001b[0m \u001b[1;33m\u001b[0m\u001b[0m\n\u001b[1;32m---> 52\u001b[1;33m \u001b[0mbinomial\u001b[0m \u001b[1;33m=\u001b[0m \u001b[0mBinomialDistribution\u001b[0m\u001b[1;33m(\u001b[0m\u001b[1;33m)\u001b[0m\u001b[1;33m\u001b[0m\u001b[1;33m\u001b[0m\u001b[0m\n\u001b[0m\u001b[0;32m     53\u001b[0m \u001b[0mprint\u001b[0m\u001b[1;33m(\u001b[0m\u001b[0mbinomial\u001b[0m\u001b[1;33m)\u001b[0m\u001b[1;33m\u001b[0m\u001b[1;33m\u001b[0m\u001b[0m\n\u001b[0;32m     54\u001b[0m \u001b[0mpoisson\u001b[0m \u001b[1;33m=\u001b[0m \u001b[0mPoissonDistribution\u001b[0m\u001b[1;33m(\u001b[0m\u001b[0mparams\u001b[0m\u001b[1;33m=\u001b[0m\u001b[1;33m{\u001b[0m\u001b[1;34m'lambda'\u001b[0m\u001b[1;33m:\u001b[0m \u001b[1;36m5\u001b[0m\u001b[1;33m}\u001b[0m\u001b[1;33m)\u001b[0m\u001b[1;33m\u001b[0m\u001b[1;33m\u001b[0m\u001b[0m\n",
      "\u001b[1;31mTypeError\u001b[0m: __init__() missing 1 required positional argument: 'params'"
     ]
    }
   ],
   "source": [
    "class Printable:\n",
    "    def __str__(self):\n",
    "        s = self.name + ' com parâmetros '\n",
    "        for key in self.params:\n",
    "            s += '{0}: {1} '.format(key, self.params[key])\n",
    "        return s\n",
    "\n",
    "class BinomialDistribution(DiscreteDistribution, Printable):\n",
    "    \n",
    "    def __init__(self, params):\n",
    "        self.name = 'Binomial'\n",
    "        super().__init__(params)\n",
    "        \n",
    "    def pmf(self, x):\n",
    "        \n",
    "        n, p = self.params['n'], self.params['p']        \n",
    "\n",
    "        def combination(n, x):\n",
    "            return factorial(n) / (factorial(x) * factorial(n - x))\n",
    "\n",
    "        return combination(n, x) * p ** x * (1.0 - p) ** (n - x) \n",
    "    \n",
    "    \n",
    "    def cdf(self, x):\n",
    "        print('Calculado usando pmf da Poisson')\n",
    "        return super().cdf(x)\n",
    "    \n",
    "    def mean(self):\n",
    "        return self.params['n'] * self.params['p']\n",
    "    \n",
    "    def variance(self):\n",
    "        return self.params['n'] * self.params['p'] * (1 - self.params['p'])\n",
    "\n",
    "class PoissonDistribution(DiscreteDistribution, Printable):\n",
    "    \n",
    "    def __init__(self, params):\n",
    "        self.name = 'Poisson'\n",
    "        super().__init__(params)        \n",
    "    \n",
    "    def pmf(self, x):\n",
    "        \n",
    "        l = self.params['lambda']\n",
    "\n",
    "        return (l ** x * math.e ** (-l)) / factorial(x)\n",
    "    \n",
    "    def mean(self):\n",
    "        return self.params['lambda']\n",
    "    \n",
    "    def variance(self):\n",
    "        return self.params['lambda']\n",
    "\n",
    "binomial = BinomialDistribution(params={'n': 5, 'p': 0.7})\n",
    "print(binomial)\n",
    "poisson = PoissonDistribution(params={'lambda': 5})\n",
    "print(poisson)\n"
   ]
  },
  {
   "cell_type": "markdown",
   "metadata": {},
   "source": [
    "**Note :** Toda classe , é uma subclasse da classe **Object**"
   ]
  },
  {
   "cell_type": "markdown",
   "metadata": {},
   "source": [
    "## Exericicio\n",
    "\n",
    "**2.1.** Implemente a classe UniformDistribution como uma subclasse da classe DiscreteDistribution da Seção anterior."
   ]
  },
  {
   "cell_type": "code",
   "execution_count": 95,
   "metadata": {},
   "outputs": [],
   "source": [
    "import math\n",
    "\n",
    "class DiscreteDistribution:\n",
    "    \n",
    "    def __init__(self, params):\n",
    "        self.params = params\n",
    "        \n",
    "    def pmf(self, x):\n",
    "        pass\n",
    "    \n",
    "    def cdf(self, x):\n",
    "        total = 0\n",
    "        for v in range(x + 1):\n",
    "            p = self.pmf(v)\n",
    "            total += p\n",
    "            print(v, p)\n",
    "        return total\n",
    "    \n",
    "    def mean(self):\n",
    "        pass\n",
    "    \n",
    "    def variance(self):\n",
    "        pass\n",
    "\n",
    "class UniformDistribution(DiscreteDistribution):\n",
    "    \n",
    "    def pmf(self, x):\n",
    "        if self.params['a'] <= x and x <= self.params['b']:\n",
    "            return 1/(len(list(range(self.params['a'], self.params['b']))) + 1 )\n",
    "        else:\n",
    "            return 0\n",
    "    \n",
    "    def mean(self):\n",
    "        return (self.params['a'] + self.params['b'])/2\n",
    "    \n",
    "    def variance(self):\n",
    "        return ((self.params['b'] - self.params['a'] + 1)**(2) - 1)/12"
   ]
  },
  {
   "cell_type": "code",
   "execution_count": 97,
   "metadata": {},
   "outputs": [
    {
     "data": {
      "text/plain": [
       "0.25"
      ]
     },
     "execution_count": 97,
     "metadata": {},
     "output_type": "execute_result"
    }
   ],
   "source": [
    "UniformDistribution({'a': 0, 'b': 1}).variance()"
   ]
  },
  {
   "cell_type": "code",
   "execution_count": null,
   "metadata": {},
   "outputs": [],
   "source": []
  }
 ],
 "metadata": {
  "file_extension": ".py",
  "kernelspec": {
   "display_name": "Python 3",
   "language": "python",
   "name": "python3"
  },
  "mimetype": "text/x-python",
  "name": "python",
  "npconvert_exporter": "python",
  "pygments_lexer": "ipython3",
  "version": 3
 },
 "nbformat": 4,
 "nbformat_minor": 2
}
