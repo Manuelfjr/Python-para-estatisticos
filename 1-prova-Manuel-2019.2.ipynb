{
 "cells": [
  {
   "cell_type": "markdown",
   "metadata": {},
   "source": [
    "# 1ª Avaliação de Programação Estatística com Python - 10/12/2019\n",
    "\n"
   ]
  },
  {
   "cell_type": "markdown",
   "metadata": {},
   "source": [
    "   * Nome: \\_\\_\\_\\_\\_\\_\\_\\_\\_\\_\\_\\_\\_\\_\\_\\_\\_\\_\\_\\_\\_\\_\\_\\_\\_\\_\\_\\_\\_\\_\\_\\_\\_\\_\\_\\_\\_\\_\\_\\_\\_\\_\\_\\_\\_\\_\\_\\_\\_\\_\\_\\_\n",
    "   * Matrícula: \\_\\_\\_\\_\\_\\_\\_\\_\\_\\_\\_\\_\\_\\_\\_\\_\\_\\_\\_\\_\\_\\_\\_\\_\\_\\_\\_\\_\\_\\_\\_\\_\\_\\_\\_\\_\\_\\_\\_\\_\\_\\_\\_\\_\\_\\_\\_\\_\\_"
   ]
  },
  {
   "cell_type": "markdown",
   "metadata": {},
   "source": [
    "**Questão 1 (1,0 ponto)** Implemente uma função que gere $C$ matrizes $\\mathbf{X}_c^{n_c \\times p}$, $c = 1, \\ldots, C$, aleatoriamente, onde $n_c$ é a quantidade de linhas da matriz $\\mathbf{X}_c$. As $p$ colunas de cada matriz $\\mathbf{X}_c$ devem ser sorteadas de distribuições normais com médias e variâncias diferentes. A função deve então concatenar todas as matrizes geradas e retornar a matriz $\\mathbf{X}^{n \\times p}$, onde $n = \\sum_{c=1}^C n_c$. <ins>Dica 1</ins>: A função pode receber como parâmetros uma lista com a quantidade de linhas de cada matriz $\\mathbf{X}_c$, uma lista com as médias das normais usadas para gerar as colunas de cada matriz e outra lista com as variâncias correspondentes. <ins>Dica 2</ins>: considere usar a função *numpy.random.multivariate_normal*."
   ]
  },
  {
   "cell_type": "code",
   "execution_count": 21,
   "metadata": {},
   "outputs": [
    {
     "name": "stdout",
     "output_type": "stream",
     "text": "[[12.79029993  4.84659598]\n [12.81709157  5.11318342]\n [12.56911221  4.90144054]\n [10.28847746  4.94541283]\n [11.07416449  4.99798251]\n [12.86300648  5.29050083]\n [11.69985552  5.05563473]\n [10.76796904  4.86314914]\n [10.76066568  5.26553155]\n [12.122051    5.34780933]\n [11.78454424  4.75268359]\n [12.06470392  4.92003207]\n [12.81045362  4.97627752]\n [12.08504762  4.83291245]\n [11.57943532  5.44981198]\n [12.169989    5.09139153]\n [13.11387582  4.87920577]\n [12.4970156   4.73154861]\n [ 8.47700529  6.99500403]\n [ 8.19236245  7.23577905]\n [ 8.45278313  8.95297942]\n [ 8.80872153  7.37058613]\n [ 8.38189472  8.12942754]\n [ 8.6453273   6.89002424]\n [ 7.64708864  6.88607935]\n [ 8.04974711  7.50953152]\n [ 8.84224954  6.56519918]\n [ 8.47195602  6.71428435]\n [ 8.72788322  6.0883508 ]\n [ 8.23289755  5.55254702]\n [ 8.14521623  6.61056525]\n [ 8.70857326  7.58157382]\n [ 7.94914972  7.04879342]\n [ 8.72273914  6.65884238]\n [ 8.32893853  6.76675906]\n [ 8.14406613  7.25968479]\n [ 8.73015298  6.48083428]\n [ 8.01443997  6.32818666]\n [ 8.56460195  7.98074196]\n [ 8.65523394  7.02881683]\n [ 8.73849703  6.34464889]\n [ 8.22271925  7.20394753]\n [ 8.82676258  5.47744611]\n [ 8.89966572  7.26154342]\n [ 8.14729813  7.25240228]\n [ 8.4354501   7.5012458 ]\n [ 8.46000353  6.5065973 ]\n [ 8.43258205  7.72698129]\n [ 8.67123841  7.51289929]\n [ 9.16933148  8.15172019]\n [ 8.83632645  6.366812  ]\n [ 8.63635263  7.28843762]\n [ 8.84105171  7.30886836]\n [ 8.05844191  6.40631442]\n [ 8.01445089  5.38490686]\n [ 8.94077094  7.10325028]\n [ 8.00125991  5.73586202]\n [ 9.08628064  7.52693945]\n [ 8.45300632  6.17926704]\n [ 8.4125139   5.31698086]\n [ 8.43476714  6.25827646]\n [ 8.0470036   7.11233858]\n [ 0.7070271   3.85238783]\n [ 0.7339966   4.11591414]\n [ 1.20604138  3.92498538]\n [ 0.91199805  3.62482588]\n [ 1.06213074  4.05259563]\n [ 0.95777226  4.04625439]\n [ 1.01994584  3.63771483]\n [ 1.00710361  3.66721246]\n [ 1.03946602  4.16591567]\n [ 1.05193824  4.04919525]\n [ 1.04274587  4.09183926]\n [ 1.08914694  4.06303103]\n [ 1.0957053   3.86142667]\n [ 0.9302023   4.30789829]\n [ 0.96170796  4.26889812]\n [ 1.00285019  4.24282766]\n [ 0.94444915  3.61981967]\n [ 0.84992975  4.07871905]\n [ 1.04021288  3.90283954]\n [ 0.65681036  4.4585453 ]\n [ 0.87777416  4.68147824]\n [ 1.20349562  4.23252412]\n [ 0.87153855  3.96788426]\n [ 1.10062709  3.40796632]\n [ 1.05337507  3.5424269 ]\n [ 1.05045331  4.07818031]\n [ 0.99617821  4.27692288]\n [ 0.94495302  4.23187394]\n [ 0.864246    4.24977781]\n [ 0.95456045  4.05507768]\n [ 1.21512848  4.15903419]\n [ 1.06638992  4.12577284]\n [ 1.05758939  3.94191035]\n [ 1.07050157  3.84742061]\n [ 1.11484341  3.84503856]\n [ 0.82261905  4.0291463 ]\n [ 0.85518223  3.9570945 ]]\n"
    }
   ],
   "source": [
    "import numpy as np\n",
    "def Q01(C, p, param):\n",
    "\n",
    "    Xc = []\n",
    "\n",
    "    for i in range(C):\n",
    "        Xc.append(np.random.normal(param[0][i], param[1][i], (np.random.randint(50),p)))\n",
    "    \n",
    "    Xnp = np.vstack((Xc))\n",
    "\n",
    "    return Xnp\n",
    "\n",
    "mu = [\n",
    "    [12,5],\n",
    "    [8.5,7],\n",
    "    [1,4]\n",
    "]\n",
    "covar = [\n",
    "    [0.954,0.2],\n",
    "    [0.37,0.87],\n",
    "    [0.123,0.234]\n",
    "]\n",
    "\n",
    "Q1 = Q01(3,2, param = (mu, covar))\n",
    "\n",
    "print(Q1)\n"
   ]
  },
  {
   "cell_type": "markdown",
   "metadata": {},
   "source": [
    "**Questão 2 (1,0 ponto)** Faça uma função que recebe uma matriz $\\mathbf{X}^{n \\times p}$ e um inteiro $k$ e retorna uma matriz $W^{k \\times p}$, cujas linhas foram selecionadas aleatoriamente e sem reposição de $\\mathbf{X}^{n \\times p}$."
   ]
  },
  {
   "cell_type": "code",
   "execution_count": 5,
   "metadata": {},
   "outputs": [
    {
     "name": "stdout",
     "output_type": "stream",
     "text": "[[-0.08651045 -1.92159687]\n [ 0.8552558  -0.55056028]\n [ 0.41126307 -0.31619269]\n [ 1.28861469 -0.9545045 ]]\n"
    }
   ],
   "source": [
    "def Q02(Xnp, k):\n",
    "\n",
    "    Wkp = []\n",
    "\n",
    "    for j in range(k):\n",
    "        \n",
    "        Wkp.append(Xnp[np.random.randint(len(Xnp[:, 1]), size = 1)])\n",
    "\n",
    "    Wkp = np.vstack(Wkp)\n",
    "    \n",
    "    return Wkp\n",
    "Q2 = Q02(Q1, 4)\n",
    "\n",
    "print(Q2)"
   ]
  },
  {
   "cell_type": "markdown",
   "metadata": {},
   "source": [
    "**Questão 3 (1,0 ponto)** Faça uma função que recebe duas matrizes $\\mathbf{X}^{n \\times p}$ e $\\mathbf{W}^{k \\times p}$ e retorna a matriz de distâncias Euclidianas $\\mathbf{D}^{n \\times k}$ entre as linhas de $\\mathbf{X}$ e as de $\\mathbf{W}$."
   ]
  },
  {
   "cell_type": "code",
   "execution_count": 6,
   "metadata": {},
   "outputs": [
    {
     "name": "stdout",
     "output_type": "stream",
     "text": "[[2.82571787 1.86101188 1.41310757 2.44910436]\n [0.67905863 1.60364697 1.41598793 1.85128297]\n [1.6808037  0.5020535  0.         1.08498288]\n [3.0794515  1.52422466 1.40353812 1.94872331]\n [0.5548994  2.19708551 2.1565081  2.23576141]\n [0.9080949  1.96579576 2.19435723 1.6881249 ]\n [2.02335951 0.40812264 0.49810251 0.90925028]\n [2.48004817 0.97787176 0.80255353 1.48249164]\n [1.74572336 0.17010398 0.3713511  0.75608215]\n [1.41659212 0.84071968 0.44002275 1.34884054]\n [2.83936654 1.18221571 1.27626353 1.46239812]\n [1.48082484 0.19067395 0.56481258 0.54235985]\n [2.8390628  1.77383679 1.35123629 2.3551428 ]\n [2.96420759 1.31839407 1.36205739 1.6276673 ]\n [2.33253684 2.18421246 1.69226    2.73166421]\n [2.33660015 2.0521103  1.55392916 2.6127944 ]\n [2.12435237 1.27109204 0.77794455 1.86073032]\n [2.16210242 1.13643311 0.66849023 1.72881479]\n [1.65538073 1.35108164 0.88593481 1.87656366]\n [1.66332949 0.         0.5020535  0.59242794]\n [3.41833268 1.79482826 1.7711316  2.12180629]\n [3.09920324 1.49454406 1.44385671 1.86751334]\n [1.91198191 0.7476516  0.28900184 1.34004076]\n [1.14697834 0.96783158 1.32389471 0.63335517]\n [1.88632515 1.34350637 0.84650969 1.90682065]\n [3.25076934 2.49157665 2.01918983 3.08352049]\n [0.87691168 1.38611436 1.66273705 1.09999542]\n [2.04525029 1.45288238 0.95112946 2.02734618]\n [3.43674889 1.83267921 2.1140811  1.79836048]\n [3.9019657  2.74734577 2.37926666 3.29737845]\n [0.         1.66332949 1.6808037  1.68114152]\n [3.44482579 2.22598814 1.87415989 2.77232902]\n [2.39620399 2.2582034  1.7654865  2.80656481]\n [1.58184463 0.9135703  0.44580026 1.45801288]\n [2.76971133 1.87727138 1.41370316 2.46845014]\n [1.8506048  0.19062451 0.52223312 0.68119169]\n [2.83624242 2.11628119 1.63145693 2.70843095]\n [1.64264898 1.470113   1.01504166 1.98193538]\n [1.68114152 0.59242794 1.08498288 0.        ]]\n"
    }
   ],
   "source": [
    "def Q03(Xnp, Wkp):\n",
    "    \n",
    "    Dnk = np.zeros((len(Xnp), len(Wkp)))\n",
    "\n",
    "    for i in range(len(Xnp)):\n",
    "        for j in range(len(Wkp)):\n",
    "            Dnk[i,j] = np.sqrt(np.sum((Xnp[i,:] - Wkp[j,:])**(2)))\n",
    "\n",
    "    return Dnk\n",
    "\n",
    "Q3 = Q03(Q1, Q2)\n",
    "\n",
    "print(Q3)\n"
   ]
  },
  {
   "cell_type": "markdown",
   "metadata": {},
   "source": [
    "**Questão 4 (1,0 ponto)** Qual função de NumPy pode ser usada para obter para cada linha da matriz $\\mathbf{D}$, retornada pela função da questão acima, a coluna que representa a menor distância da linha correspondente em $\\mathbf{X}$ para as linhas de $\\mathbf{W}$? Use a função para retornar essa informação."
   ]
  },
  {
   "cell_type": "code",
   "execution_count": 11,
   "metadata": {},
   "outputs": [
    {
     "name": "stdout",
     "output_type": "stream",
     "text": "[2 0 2 2 0 0 1 2 1 2 1 1 2 1 2 2 2 2 2 1 2 2 2 3 2 2 0 2 3 2 0 2 2 2 2 1 2\n 2 3]\n"
    }
   ],
   "source": [
    "Q4 = np.argmin(Q3, axis = 1)\n",
    "print(Q4)"
   ]
  },
  {
   "cell_type": "markdown",
   "metadata": {},
   "source": [
    "**Questão 5 (2,0 pontos)** Faça uma função que atualiza as linhas de $\\mathbf{W}$, fazendo com que cada linha assuma o valor médio das linhas de $\\mathbf{X}$ para as quais a mesma foi a mais próxima. A função deve retornar a matriz $\\mathbf{W}$ modificada. Use a função de NumPy mencionada na Questão 4."
   ]
  },
  {
   "cell_type": "code",
   "execution_count": 8,
   "metadata": {},
   "outputs": [
    {
     "name": "stdout",
     "output_type": "stream",
     "text": "[[ 0.05547936 -2.00127687]\n [ 0.9954173  -0.14650358]\n [-0.13973946  0.44655926]\n [ 1.28861469 -0.9545045 ]]\n"
    }
   ],
   "source": [
    "def Q05(Xnp, Wkp, Dnk, c):\n",
    "    k = np.argmin(Dnk, axis = 1)\n",
    "    for i in range(c):\n",
    "        X = Xnp[k == i,:]\n",
    "        Wkp[i,:] = np.apply_along_axis(func1d = np.mean, arr = X, axis = 0)\n",
    "    \n",
    "    return Wkp\n",
    "\n",
    "Q5 = Q05(Q1, Q2, Q3, 3)\n",
    "\n",
    "print(Q5)"
   ]
  },
  {
   "cell_type": "markdown",
   "metadata": {},
   "source": [
    "**Questão 6 (1,5 pontos)** Implemente uma classe, chamada *KMeans*, cujo construtor define os seguintes atributos: $k$ e $t_{max}$. A classe deve conter um método *fit*, que recebe como parâmetro uma matriz $\\mathbf{X}$. O método *fit* irá então seguir os seguintes passos:\n",
    "\n",
    "  1. Use a função implementada na Questão 2 para obter a matriz $\\mathbf{W}$ (note que o segundo parâmetro da função receberá como argumento um dos atributos definidos no construtor);\n",
    "  2. Repita as operações abaixo $t_{max}$ vezes (note que isso é um atributo):\n",
    "    1. Use a função da Questão 3 para calcular as distâncias entre $\\mathbf{X}$ e $\\mathbf{W}$\n",
    "    2. Use a função da Questão 5 para atualizar as linhas de $\\mathbf{W}$\n",
    "\n",
    "Ao final do método *fit*, a matriz $\\mathbf{W}$ resultante deve ser guardada como um atributo."
   ]
  },
  {
   "cell_type": "code",
   "execution_count": 9,
   "metadata": {},
   "outputs": [
    {
     "name": "stdout",
     "output_type": "stream",
     "text": "[[-0.62493594  0.02931093]\n [-0.3838235   1.17216748]\n [ 0.62128462 -0.43712767]\n [ 0.21023149 -1.91936268]\n [ 1.33846619  0.73192944]]\n"
    }
   ],
   "source": [
    "class KMeans:\n",
    "    def __init__(self, k, tmax):\n",
    "        self.k, self.tmax = k, tmax\n",
    "    def fit(self,X, k):\n",
    "        W = Q02(X,k)\n",
    "        for i in range(self.tmax):\n",
    "            dists = Q03(X, W)\n",
    "            new_W = Q05(X, W, dists, k)\n",
    "        \n",
    "        return new_W\n",
    "X = Q1\n",
    "k = 4\n",
    "tmax = 100\n",
    "km = KMeans(k, tmax)\n",
    "\n",
    "print(km.fit(X, k))\n"
   ]
  },
  {
   "cell_type": "markdown",
   "metadata": {},
   "source": [
    "**Questão 7 (1,0 ponto)** Adicione o método *predict* à classe *KMeans*. O método irá receber uma nova matriz $\\mathbf{X}$ e irá usar a função de NumPy mencionada na Questão 4 para retornar os índices das linhas de $\\mathbf{W}$ mais próximas às linhas de $\\mathbf{X}$."
   ]
  },
  {
   "cell_type": "code",
   "execution_count": 10,
   "metadata": {},
   "outputs": [
    {
     "name": "stdout",
     "output_type": "stream",
     "text": "[[ 0.62128462 -0.43712767]\n [ 0.21023149 -1.91936268]\n [-0.62493594  0.02931093]\n [ 1.33846619  0.73192944]\n [-0.3838235   1.17216748]]\n"
    }
   ],
   "source": [
    "class KMeans:\n",
    "    def __init__(self, k, tmax):\n",
    "        self.k, self.tmax = k, tmax\n",
    "\n",
    "    def fit(self,X, k):\n",
    "        W = Q02(X,k)\n",
    "        for i in range(self.tmax):\n",
    "            dists = Q03(X, W)\n",
    "            new_W = Q05(X, W, dists, k)\n",
    "        \n",
    "        self.W = W\n",
    "\n",
    "        return new_W\n",
    "\n",
    "    def predict(self,X):\n",
    "        dists = Q03(X, self.W)\n",
    "        return np.argmin(dists , axis = 1)\n",
    "    \n",
    "X = Q1\n",
    "k = 5\n",
    "tmax = 100\n",
    "km = KMeans(k, tmax)\n",
    "X1 = Q01(2,2, param = ((0,1), (0,1)))\n",
    "\n",
    "print(km.fit(X,k) , km.predict(X1))\n"
   ]
  },
  {
   "cell_type": "markdown",
   "metadata": {},
   "source": [
    "**Questão 8 (1,5 ponto)** Adicione o método *score* à classe *KMeans*. O método irá receber uma nova matriz $\\mathbf{X}$ e irá usar a função da Questão 3 para calcular as distâncias para a matrix $\\mathbf{W}$. Após isso, o método retornará o somatório das menores distâncias."
   ]
  },
  {
   "cell_type": "code",
   "execution_count": null,
   "metadata": {},
   "outputs": [],
   "source": [
    "class KMeans:\n",
    "    def __init__(self, k, tmax):\n",
    "        self.k, self.tmax = k, tmax\n",
    "\n",
    "    def fit(self,X, k):\n",
    "        W = Q02(X,k)\n",
    "        for i in range(self.tmax):\n",
    "            dists = Q03(X, W)\n",
    "            new_W = Q05(X, W, dists, k)\n",
    "        \n",
    "        self.W = W\n",
    "\n",
    "        return new_W\n",
    "\n",
    "    def predict(self,X):\n",
    "        dists = Q03(X, self.W)\n",
    "        return np.argmin(dists , axis = 1)\n",
    "\n",
    "    def score(self, X):\n",
    "        d = Q03(X, self.W)\n",
    "        d = np.apply_along_axis(min, 1, d)\n",
    "        return np.sum(d)\n",
    "X = Q1\n",
    "k = 5\n",
    "tmax = 100\n",
    "km = KMeans(k, tmax)\n",
    "X1 = Q01(2,2, param = ((0,1), (0,1)))\n",
    "X2 = Q01(2,2, param = ((0,1), (0,1)))\n",
    "km.fit(X,k)\n",
    "print(km.fit(X,k), km.predict(X1), km.score(X2))"
   ]
  },
  {
   "cell_type": "code",
   "execution_count": null,
   "metadata": {},
   "outputs": [],
   "source": []
  }
 ],
 "metadata": {
  "kernelspec": {
   "display_name": "Python 3",
   "language": "python",
   "name": "python3"
  },
  "language_info": {
   "codemirror_mode": {
    "name": "ipython",
    "version": 3
   },
   "file_extension": ".py",
   "mimetype": "text/x-python",
   "name": "python",
   "nbconvert_exporter": "python",
   "pygments_lexer": "ipython3",
   "version": "3.7.4"
  }
 },
 "nbformat": 4,
 "nbformat_minor": 2
}