{
 "cells": [
  {
   "cell_type": "markdown",
   "metadata": {},
   "source": [
    "# Aula 10 (19/11/2019)\n",
    "\n",
    "## Erros e exceções"
   ]
  },
  {
   "cell_type": "markdown",
   "metadata": {},
   "source": [
    "Mesmo quando um comando está sintaticamente correto, é possível que ocorram erros em sua execução. Esses erros que ocorrem em tempo de execução são chamados de exceções e, se não tratados, resultam no final fatal do programa. Alguns exemplos de exceções comuns"
   ]
  },
  {
   "cell_type": "markdown",
   "metadata": {},
   "source": [
    "Mesmo quando a sintaxe de um comando em Python está correta, é possível que erros aconteçam. Esses erros em tempo de execução são chamados de exceções e podem finalizar o programa. Exemplos de exceções comuns:\n",
    "\n",
    "**1. Divisão por zero:**"
   ]
  },
  {
   "cell_type": "code",
   "execution_count": 1,
   "metadata": {},
   "outputs": [
    {
     "ename": "ZeroDivisionError",
     "evalue": "division by zero",
     "output_type": "error",
     "traceback": [
      "\u001b[1;31m---------------------------------------------------------------------------\u001b[0m",
      "\u001b[1;31mZeroDivisionError\u001b[0m                         Traceback (most recent call last)",
      "\u001b[1;32m<ipython-input-1-9e1622b385b6>\u001b[0m in \u001b[0;36m<module>\u001b[1;34m()\u001b[0m\n\u001b[1;32m----> 1\u001b[1;33m \u001b[1;36m1\u001b[0m\u001b[1;33m/\u001b[0m\u001b[1;36m0\u001b[0m\u001b[1;33m\u001b[0m\u001b[0m\n\u001b[0m",
      "\u001b[1;31mZeroDivisionError\u001b[0m: division by zero"
     ]
    }
   ],
   "source": [
    "1/0"
   ]
  },
  {
   "cell_type": "markdown",
   "metadata": {},
   "source": [
    "**2. Erro de nome:** (usar o nome de uma variável não declarada antes)"
   ]
  },
  {
   "cell_type": "code",
   "execution_count": 2,
   "metadata": {},
   "outputs": [
    {
     "ename": "NameError",
     "evalue": "name 'media' is not defined",
     "output_type": "error",
     "traceback": [
      "\u001b[1;31m---------------------------------------------------------------------------\u001b[0m",
      "\u001b[1;31mNameError\u001b[0m                                 Traceback (most recent call last)",
      "\u001b[1;32m<ipython-input-2-334bd2885d22>\u001b[0m in \u001b[0;36m<module>\u001b[1;34m()\u001b[0m\n\u001b[1;32m----> 1\u001b[1;33m \u001b[0mmedia\u001b[0m \u001b[1;33m+\u001b[0m \u001b[1;36m1\u001b[0m\u001b[1;33m\u001b[0m\u001b[0m\n\u001b[0m",
      "\u001b[1;31mNameError\u001b[0m: name 'media' is not defined"
     ]
    }
   ],
   "source": [
    "media + 1"
   ]
  },
  {
   "cell_type": "markdown",
   "metadata": {},
   "source": [
    "Em vez de:"
   ]
  },
  {
   "cell_type": "code",
   "execution_count": 6,
   "metadata": {},
   "outputs": [
    {
     "data": {
      "text/plain": [
       "7"
      ]
     },
     "execution_count": 6,
     "metadata": {},
     "output_type": "execute_result"
    }
   ],
   "source": [
    "media = 6\n",
    "\n",
    "media + 1"
   ]
  },
  {
   "cell_type": "markdown",
   "metadata": {},
   "source": [
    "Mesmo quando um comando está sintaticamente correto, é possível que ocorram erros em sua execução. Esses erros que ocorrem em tempo de execução são chamados de exceções e, se não tratados, resultam no final fatal do programa. Alguns exemplos de exceções comuns"
   ]
  },
  {
   "cell_type": "markdown",
   "metadata": {},
   "source": [
    "**3. Erro de tipo.** Por exemplo, realisar uma operação incomparível com um tipo:"
   ]
  },
  {
   "cell_type": "code",
   "execution_count": 4,
   "metadata": {},
   "outputs": [
    {
     "ename": "TypeError",
     "evalue": "can only concatenate str (not \"int\") to str",
     "output_type": "error",
     "traceback": [
      "\u001b[1;31m---------------------------------------------------------------------------\u001b[0m",
      "\u001b[1;31mTypeError\u001b[0m                                 Traceback (most recent call last)",
      "\u001b[1;32m<ipython-input-4-23ba4203b06a>\u001b[0m in \u001b[0;36m<module>\u001b[1;34m()\u001b[0m\n\u001b[1;32m----> 1\u001b[1;33m \u001b[1;34m'mean: '\u001b[0m \u001b[1;33m+\u001b[0m \u001b[1;36m1\u001b[0m\u001b[1;33m\u001b[0m\u001b[0m\n\u001b[0m",
      "\u001b[1;31mTypeError\u001b[0m: can only concatenate str (not \"int\") to str"
     ]
    }
   ],
   "source": [
    "# O código abaixo tenta concatenar uma string e um inteiro:\n",
    "\n",
    "'mean: ' + 1"
   ]
  },
  {
   "cell_type": "markdown",
   "metadata": {},
   "source": [
    "Em vez de:"
   ]
  },
  {
   "cell_type": "code",
   "execution_count": 5,
   "metadata": {},
   "outputs": [
    {
     "data": {
      "text/plain": [
       "'mean: 1'"
      ]
     },
     "execution_count": 5,
     "metadata": {},
     "output_type": "execute_result"
    }
   ],
   "source": [
    "'mean: ' + '1'"
   ]
  },
  {
   "cell_type": "code",
   "execution_count": null,
   "metadata": {},
   "outputs": [],
   "source": []
  },
  {
   "cell_type": "code",
   "execution_count": 4,
   "metadata": {},
   "outputs": [
    {
     "name": "stdout",
     "output_type": "stream",
     "text": [
      "Digite um número: 1\n",
      "Digite um número: 2\n",
      "Digite um número: 3\n",
      "Digite um número: outro número\n",
      "Número inválido. Tente novamente...\n",
      "Digite um número: stop\n"
     ]
    },
    {
     "ename": "KeyboardInterrupt",
     "evalue": "",
     "output_type": "error",
     "traceback": [
      "\u001b[1;31m---------------------------------------------------------------------------\u001b[0m",
      "\u001b[1;31mKeyboardInterrupt\u001b[0m                         Traceback (most recent call last)",
      "\u001b[1;32m<ipython-input-4-aa95a615b621>\u001b[0m in \u001b[0;36m<module>\u001b[1;34m()\u001b[0m\n\u001b[0;32m      3\u001b[0m         \u001b[0ms\u001b[0m \u001b[1;33m=\u001b[0m \u001b[0minput\u001b[0m\u001b[1;33m(\u001b[0m\u001b[1;34m'Digite um número: '\u001b[0m\u001b[1;33m)\u001b[0m\u001b[1;33m\u001b[0m\u001b[0m\n\u001b[0;32m      4\u001b[0m         \u001b[1;32mif\u001b[0m \u001b[0ms\u001b[0m \u001b[1;33m==\u001b[0m \u001b[1;34m'stop'\u001b[0m\u001b[1;33m:\u001b[0m\u001b[1;33m\u001b[0m\u001b[0m\n\u001b[1;32m----> 5\u001b[1;33m             \u001b[1;32mraise\u001b[0m \u001b[0mKeyboardInterrupt\u001b[0m\u001b[1;33m\u001b[0m\u001b[0m\n\u001b[0m\u001b[0;32m      6\u001b[0m         \u001b[0mx\u001b[0m \u001b[1;33m=\u001b[0m \u001b[0mfloat\u001b[0m\u001b[1;33m(\u001b[0m\u001b[0ms\u001b[0m\u001b[1;33m)\u001b[0m\u001b[1;33m\u001b[0m\u001b[0m\n\u001b[0;32m      7\u001b[0m     \u001b[1;32mexcept\u001b[0m \u001b[0mValueError\u001b[0m\u001b[1;33m:\u001b[0m\u001b[1;33m\u001b[0m\u001b[0m\n",
      "\u001b[1;31mKeyboardInterrupt\u001b[0m: "
     ]
    }
   ],
   "source": [
    "while True:\n",
    "    try:\n",
    "        s = input('Digite um número: ')\n",
    "        if s == 'stop':\n",
    "            raise KeyboardInterrupt\n",
    "        x = float(s)\n",
    "    except ValueError:\n",
    "        print('Número inválido. Tente novamente...')"
   ]
  },
  {
   "cell_type": "markdown",
   "metadata": {},
   "source": [
    "Para controlar as exceções, usamos o comando **try**. Ele funciona da seguinte maneira:\n",
    "\n",
    "1. Os comandos definidos no bloco de código entre o **try** e o **except** são executados;\n",
    "2. Se nenhuma exceção ocorrer o bloco do **except** é ignorado, terminando a execução do **try**;\n",
    "3. Se uma exceção ocorrer, os comandos restantes do bloco try são ignorados;\n",
    "    - Se o tipo da exceção corresponder a algum tipo de exceção nomeado após o comando except, o bloco except é executado e a execução do script continua;\n",
    "    - Se a execução não corresponder aos tipos de exceção nomeados após o comando except, a exceção é lançada para escopos superiores, na tentativa de encontrar algum bloco que a trate;\n",
    "    - Se a exceção permanecer não tratada, a execução irá parar.\n",
    "    \n",
    "O funcionamento de blocos **try** e **except** pode ser comparado a **if** e **else**, onde cada **except**, ou \"else\", serve para detectar e lidar com exceções. Um mesmo **try** pode estar associado a mais de um **except**, onde cada uma trata tipo de exceção. No nosso exemplo anterior, temos um **except** para a exceção *ValueError*, que ocorria quando um valor não podia ser convertido a *float*, mas não temos um para a *KeyboardInterrupt*, que ocorria quando o kernel era interrompido.\n",
    "\n",
    "**OBS:** exceções podem ser lançadas intencionalmente através do comando **raise**."
   ]
  },
  {
   "cell_type": "code",
   "execution_count": 3,
   "metadata": {},
   "outputs": [
    {
     "name": "stdout",
     "output_type": "stream",
     "text": [
      "Digite um número: 1\n",
      "Digite um número: 2\n",
      "Digite um número: 3\n",
      "Digite um número: um número\n",
      "Número inválido. Tente novamente...\n",
      "Digite um número: stop\n"
     ]
    }
   ],
   "source": [
    "while True:\n",
    "    try:\n",
    "        s = input('Digite um número: ')\n",
    "        if s == 'stop':\n",
    "            raise KeyboardInterrupt\n",
    "        x = float(s)\n",
    "    except ValueError:\n",
    "        print('Número inválido. Tente novamente...')\n",
    "    except KeyboardInterrupt:\n",
    "        break"
   ]
  },
  {
   "cell_type": "markdown",
   "metadata": {},
   "source": [
    "Além disso, Python também permite usar um mesmo **except** para múltiplas exceções, tratando todas elas da mesma maneira. Alterando nosso exemplo anterior:"
   ]
  },
  {
   "cell_type": "code",
   "execution_count": 5,
   "metadata": {},
   "outputs": [
    {
     "name": "stdout",
     "output_type": "stream",
     "text": [
      "Digite um número: 1\n",
      "Digite um número: 2\n",
      "Digite um número: 3\n",
      "Digite um número: stop\n",
      "Entrada não pôde ser convertida a número.\n"
     ]
    }
   ],
   "source": [
    "while True:\n",
    "    try:\n",
    "        s = input('Digite um número: ')\n",
    "        if s == 'stop':\n",
    "            raise KeyboardInterrupt\n",
    "        x = float(s)\n",
    "    except (ValueError,  KeyboardInterrupt):\n",
    "        print('Entrada não pôde ser convertida a número.')\n",
    "        break"
   ]
  },
  {
   "cell_type": "markdown",
   "metadata": {},
   "source": [
    "## Exceções definidas pelo usuário\n",
    "\n",
    "Voltando ao conceito de herança, onde subclasses herdam propriedades de uma superclasse, todas as exceções em Python são subclasses da classe *Exception*.\n",
    "\n",
    "Por exemplo, o código abaixo continua o exemplo anterior, mas pede para o usuário digitar o número com vírgula como marcador de decimais. Caso não haja uma vírgula na string digitada, o código irá lançar o novo tipo de exceção chamado InputError (é convenção nomear exceções com a palavra Error no final). Caso haja uma vírgula, o código irá substituí-la por ponto e depois tentar converter a string resultante para float."
   ]
  },
  {
   "cell_type": "code",
   "execution_count": 7,
   "metadata": {},
   "outputs": [
    {
     "name": "stdout",
     "output_type": "stream",
     "text": [
      "Digite um número (vírgula para decimais): 1,2\n",
      "Valor digitado: 1.2\n",
      "Digite um número (vírgula para decimais): 1,3\n",
      "Valor digitado: 1.3\n",
      "Digite um número (vírgula para decimais): 1.3\n",
      "Número inválido. Tente novamente...\n",
      "Digite um número (vírgula para decimais): stop\n"
     ]
    }
   ],
   "source": [
    "class InputError(Exception):\n",
    "    def __init__(self, input_value, message):\n",
    "        self.input_value = input_value\n",
    "        self.message = message\n",
    "        \n",
    "while True:\n",
    "    try:\n",
    "        x = input('Digite um número (vírgula para decimais): ')\n",
    "        if x == 'stop':\n",
    "            raise KeyboardInterrupt\n",
    "        if ',' not in x:\n",
    "            raise InputError(x, 'Valor digitado não usou vírgula para decimais')\n",
    "        else:\n",
    "            print('Valor digitado: {}'.format(float(x.replace(',', '.'))))\n",
    "    except ValueError:\n",
    "        print('Número inválido. Tente novamente...')\n",
    "    except KeyboardInterrupt:\n",
    "        break"
   ]
  },
  {
   "cell_type": "markdown",
   "metadata": {},
   "source": [
    "Veja que o código acima usa o **raise** para lançar uma exceção *InputError*, mas não possui um **except** para tratá-la. Corrigindo isso:"
   ]
  },
  {
   "cell_type": "code",
   "execution_count": 9,
   "metadata": {},
   "outputs": [
    {
     "name": "stdout",
     "output_type": "stream",
     "text": [
      "Digite um número (vírgula para decimais): 1,2\n",
      "Valor digitado: 1.2\n",
      "Digite um número (vírgula para decimais): 1.2\n",
      "Valor digitado não usou vírgula para decimais: 1.2\n",
      "Digite um número (vírgula para decimais): stop\n"
     ]
    }
   ],
   "source": [
    "while True:\n",
    "    try:\n",
    "        x = input('Digite um número (vírgula para decimais): ')\n",
    "        if x == 'stop':\n",
    "            raise KeyboardInterrupt\n",
    "        if ',' not in x:\n",
    "            raise InputError(x, 'Valor digitado não usou vírgula para decimais')\n",
    "        else:\n",
    "            print('Valor digitado: {}'.format(float(x.replace(',', '.'))))\n",
    "    except InputError as err:\n",
    "        print(err.message + ': ' + err.input_value)\n",
    "    except ValueError:\n",
    "        print('Número inválido. Tente novamente...')\n",
    "    except KeyboardInterrupt:\n",
    "        break"
   ]
  },
  {
   "cell_type": "markdown",
   "metadata": {},
   "source": [
    "Obsserve que foi usado o operador **as** para atribuir a exceção capturada ao objeto *err*,\"apelidando\" o objeto *InputError*, permitindo o acesso a seus atributos, message e input_value."
   ]
  },
  {
   "cell_type": "markdown",
   "metadata": {},
   "source": [
    "## O operador \"finally\""
   ]
  },
  {
   "cell_type": "markdown",
   "metadata": {},
   "source": [
    "O operador **try** pode ser associado tanto a operadores **except** quanto ao **finally**, que serve para definir ações que serão executadas tanto se exceções ocorrerem quanto se elas não ocorrerem. Por exemplo, se uma conexão com um servidor for aberta, ela deve ser fechada após o seu uso, tendo ou não ocorrido erros.\n",
    "\n",
    "O bloco de código associado ao comando **finally** será sempre executado, mesmo que ocorra alguma exceção. Por exemplo:"
   ]
  },
  {
   "cell_type": "code",
   "execution_count": 12,
   "metadata": {},
   "outputs": [
    {
     "name": "stdout",
     "output_type": "stream",
     "text": [
      "Número ímpar.\n",
      "Adeus\n"
     ]
    }
   ],
   "source": [
    "i = 3\n",
    "\n",
    "try:\n",
    "    if i%2:\n",
    "        raise ValueError('Lançando um erro')\n",
    "    else:\n",
    "        print(\"Número par.\")\n",
    "except ValueError:\n",
    "    print(\"Número ímpar.\")\n",
    "finally:\n",
    "    print('Adeus')"
   ]
  },
  {
   "cell_type": "markdown",
   "metadata": {},
   "source": [
    "## Computação Matemática e Científica \n",
    "\n",
    "O Capítulo 3 irá focar no ecossistema SciPy de softwares livres para matemática e ciência, incluindo:\n",
    "\n",
    "- NumPy: operações com arrays n-dimensionais;\n",
    "- SciPy: biblioteca fundamental para programação científica;\n",
    "- Pandas: armazenamento, operações e análises usando estruturas de dados como DataFrames (como me R) e Series;\n",
    "- Matplotlib: visualização de dados (plotagem de gráficos).\n",
    "- Além disso, iremos cobrir pacotes de computação matemática que permitem realizar processamento em unidades de processamento gráfico (GPU, do inglês Graphics Processing Unit), incluindo PyTorch e TensorFlow."
   ]
  },
  {
   "cell_type": "markdown",
   "metadata": {},
   "source": [
    "# Numpy\n",
    "\n",
    "NumPy é um pacote fundamental para computação científica em Python, sendo usado como base para praticamente todos os outros. Suas capacidades incluem uma poderosa classe *array*, que pode representar vetores e matrizes, sofisticadas funções para manipulação de arrays, ferramentas para integração de códigos em C/C++ e Fortran, além de funções de álgebra linear e de geração de números aleatórios. Os arrays de NumPy também podem ser usados para armazenar dados de tipos genéricos, permitindo fácil integração com diferentes tipos de bases e bancos de dados. A documentação completa para todas as versões de NumPy pode ser encontrada em [numpy.org/doc](https://numpy.org/doc)."
   ]
  },
  {
   "cell_type": "markdown",
   "metadata": {},
   "source": [
    "## A classe array \n",
    "\n",
    "A classe *array* é o principal componente de NumPy e representa uma lista homogênea multidimensional, na forma de uma tabela de elementos (normalmente números), todos do mesmo tipo, indexada por tuplas de inteiros positivos. Um dimensão de um array é chamada de eixo (axis). Abaixo, temos dois exemplos de arrays (note sua criação por meio de listas):"
   ]
  },
  {
   "cell_type": "code",
   "execution_count": 13,
   "metadata": {},
   "outputs": [
    {
     "name": "stdout",
     "output_type": "stream",
     "text": [
      "3 int32\n",
      "(2, 3) 2 float64\n",
      "[[1. 0. 1.]\n",
      " [0. 1. 2.]]\n"
     ]
    }
   ],
   "source": [
    "import numpy as np\n",
    "\n",
    "a = np.array([1, 2, 1])  # Uma dimensão, 3 elementos, tipo inteiro\n",
    "b = np.array([\n",
    "    [1., 0., 1.], \n",
    "    [0., 1., 2.]\n",
    "])  # Duas dimensões, a primeira com tamanho 2 e a segunda com tamanho 3, tipo ponto flutuante\n",
    "\n",
    "print(len(a), a.dtype)\n",
    "print(b.shape, len(b), b.dtype)\n",
    "print(b)"
   ]
  },
  {
   "cell_type": "markdown",
   "metadata": {},
   "source": [
    "A biblioteca padrão de Python também tem uma classe array.array, mas ela serve apenas pra casos unidimensionais e oferece menos funcionalidades. Os atributos mais importantes do array de numpy incluem:\n",
    "\n",
    "- array.ndim: o número de eixos do array\n",
    "- array.shape: as dimensões do array na forma de uma tupla indicando o tamanho de cada dimensão; matriz  n×m  possui shape  (n,m) \n",
    "- array.size: o número total de elementos no array\n",
    "- array.dtype: o tipo dos elementos do array\n",
    "\n",
    "**Criando arrays**\n",
    "\n",
    "A criação de um array pode ser feita usando listas ou tuplas, com o tipo dos dados sendo deduzido através dos tpos dos elementos da sequência. Uma lista de listas resultará em um array bidimensional, uma lista de listas de listas dará um array tridimensional e assim por diante. É possível especificar o tipo do array na hora da criação:"
   ]
  },
  {
   "cell_type": "code",
   "execution_count": 14,
   "metadata": {},
   "outputs": [
    {
     "name": "stdout",
     "output_type": "stream",
     "text": [
      "[[1.+0.j 0.+0.j 1.+0.j]\n",
      " [0.+0.j 1.+0.j 2.+0.j]]\n"
     ]
    }
   ],
   "source": [
    "b = np.array(\n",
    "    [\n",
    "        [1., 0., 1.], \n",
    "        [0., 1., 2.]\n",
    "    ],\n",
    "    dtype=complex\n",
    ")\n",
    "print(b)"
   ]
  },
  {
   "cell_type": "markdown",
   "metadata": {},
   "source": [
    "Frequentemente é necessario criar arrays com um tamanho definido e valores iniciais que serão posteriormente modificados. Para isso, NumPy fornece diversas funções, incluindo a função zeros, que cria um array preenchido com zeros; ones, que cria um array preenchido com uns; empty, que cria um array cujo conteúdo inicial é aleatório e depende do estado da memória; e eye, que cria uma matriz identidade."
   ]
  },
  {
   "cell_type": "code",
   "execution_count": 15,
   "metadata": {},
   "outputs": [
    {
     "name": "stdout",
     "output_type": "stream",
     "text": [
      "[[0. 0. 0. 0.]\n",
      " [0. 0. 0. 0.]\n",
      " [0. 0. 0. 0.]]\n",
      "\n",
      "[[1. 1. 1. 1.]\n",
      " [1. 1. 1. 1.]\n",
      " [1. 1. 1. 1.]]\n",
      "\n",
      "[[1. 1. 1. 1.]\n",
      " [1. 1. 1. 1.]\n",
      " [1. 1. 1. 1.]]\n",
      "\n",
      "[[1 0 0]\n",
      " [0 1 0]\n",
      " [0 0 1]]\n"
     ]
    }
   ],
   "source": [
    "print(np.zeros((3, 4))) \n",
    "# Observe que as dimensões são informadas como uma tupla,\n",
    "# pois shape() também retorna uma tupla.\n",
    "print()\n",
    "\n",
    "print(np.ones((3, 4)))\n",
    "print()\n",
    "\n",
    "print(np.empty((3, 4))) \n",
    "# Saída pode variar, pois os valores usados são os que já estavam\n",
    "# guardados nos espaços de memória, praticamente aleatórios\n",
    "print()\n",
    "\n",
    "print(np.eye(3, dtype=np.int32))\n",
    "# Basta passar uma dimensão, pois a eye() gera uma matriz identidade, que é sempre quadrada"
   ]
  },
  {
   "cell_type": "markdown",
   "metadata": {},
   "source": [
    "Para criar sequências de números, pode-se usar a função arange, que é análoga à função range, mas retorna arrays e aceita criar intervalos de pontos flutuantes.\n",
    "\n",
    "(Lembre que intervalos em Python são abertos à direita)"
   ]
  },
  {
   "cell_type": "code",
   "execution_count": 16,
   "metadata": {},
   "outputs": [
    {
     "name": "stdout",
     "output_type": "stream",
     "text": [
      "[ 5 10 15]\n",
      "\n",
      "[0.  0.4 0.8 1.2 1.6]\n"
     ]
    }
   ],
   "source": [
    "print(np.arange(5, 20, 5))\n",
    "# 20 não será incluído\n",
    "\n",
    "print()\n",
    "print(np.arange(0, 2, 0.4))\n",
    "# 3 não será incluído"
   ]
  },
  {
   "cell_type": "markdown",
   "metadata": {},
   "source": [
    "Devido a possíveis problemas de arredondamento, não é sempre possível saber quantos elementos serão gerados pela função arange ao receber pontos flutuantes como parâmetros. Nesses casos, é melhor usar a função linspace, que recebe como argumentos o início, o fim (inclusivo) e o número de valores desejados no intervalo"
   ]
  },
  {
   "cell_type": "code",
   "execution_count": 17,
   "metadata": {},
   "outputs": [
    {
     "name": "stdout",
     "output_type": "stream",
     "text": [
      "[0.    0.125 0.25  0.375 0.5   0.625 0.75  0.875 1.   ]\n"
     ]
    }
   ],
   "source": [
    "print(np.linspace(0, 1, 9)) \n",
    "# 9 números começando em 0 e terminando em 1"
   ]
  },
  {
   "cell_type": "markdown",
   "metadata": {},
   "source": [
    "A função linspace() é útil para avaliar funções em muitos pontos e plotar seus gráficos."
   ]
  },
  {
   "cell_type": "code",
   "execution_count": 21,
   "metadata": {},
   "outputs": [
    {
     "data": {
      "image/png": "[encoded data removed]",
      "text/plain": [
       "<Figure size 432x288 with 1 Axes>"
      ]
     },
     "metadata": {
      "needs_background": "light"
     },
     "output_type": "display_data"
    }
   ],
   "source": [
    "import matplotlib.pyplot as plt\n",
    "\n",
    "x = np.linspace(0, 2 * np.pi, 100)\n",
    "f = np.sin(x)\n",
    "\n",
    "plt.plot(x, f)\n",
    "plt.show()"
   ]
  },
  {
   "cell_type": "markdown",
   "metadata": {},
   "source": [
    "**Operações básicas** \n",
    "\n",
    "Operações aritméticas com arrays sempre são aplicadas elemento-a-elemento, criando um novo array como resultado:"
   ]
  },
  {
   "cell_type": "code",
   "execution_count": 23,
   "metadata": {},
   "outputs": [
    {
     "name": "stdout",
     "output_type": "stream",
     "text": [
      "[10 20 30 40]\n",
      "[0 1 2 3]\n",
      "\n",
      "[10 19 28 37]\n",
      "\n",
      "[0 1 4 9]\n",
      "\n",
      "[ True  True False False]\n",
      "\n",
      "[10 20]\n",
      "\n",
      "[  0  20  60 120]\n"
     ]
    }
   ],
   "source": [
    "a = np.array([10, 20, 30, 40])\n",
    "print(a)\n",
    "\n",
    "b = np.arange(4)\n",
    "print(b)\n",
    "print()\n",
    "\n",
    "# Podemos subtrair elemento a elemento:\n",
    "c = a - b\n",
    "print(c)\n",
    "print()\n",
    "\n",
    "# Podemos aplicar uma potência elemento a elemento:\n",
    "print(b**2)\n",
    "print()\n",
    "\n",
    "# Aplicar uma operação lógica retorna um vetor de valores booleanos:\n",
    "print(a < 25)\n",
    "print()\n",
    "\n",
    "# Como em R, esse vetor de booleanos pode ser passado como índice:\n",
    "print(a[a < 25])\n",
    "print()\n",
    "\n",
    "# Também podemos multiplicar elemento a elemento:\n",
    "print(a * b)"
   ]
  },
  {
   "cell_type": "markdown",
   "metadata": {},
   "source": [
    "Essas operações também podem ser realizadas em matrizes e arrays de mais de duas dimensões.\n",
    "\n",
    "O operador '*' multiplica os arrays através dos elementos. Para realizar a multiplicação de matrizes, pode-se usar o operador '@', a função dot do NumPy, ou o método dot do array:"
   ]
  },
  {
   "cell_type": "code",
   "execution_count": 24,
   "metadata": {},
   "outputs": [
    {
     "name": "stdout",
     "output_type": "stream",
     "text": [
      "[[2 2]\n",
      " [0 2]]\n",
      "[[2 2]\n",
      " [0 2]]\n",
      "[[2 2]\n",
      " [0 2]]\n"
     ]
    }
   ],
   "source": [
    "A = np.array(\n",
    "[\n",
    "        [1, 1],\n",
    "        [0, 1]\n",
    "    ]\n",
    ")\n",
    "\n",
    "# B é a matriz identidade multiplicada por 2\n",
    "B = np.array(\n",
    "    [\n",
    "        [2, 0],\n",
    "        [0, 2]\n",
    "    ]\n",
    ")\n",
    "\n",
    "# Das três formas diferentes:\n",
    "print(A @ B)\n",
    "print(np.dot(A, B))\n",
    "print(A.dot(B))"
   ]
  },
  {
   "cell_type": "code",
   "execution_count": 34,
   "metadata": {},
   "outputs": [
    {
     "data": {
      "text/plain": [
       "array([[14, 12],\n",
       "       [32, 27],\n",
       "       [50, 42]])"
      ]
     },
     "execution_count": 34,
     "metadata": {},
     "output_type": "execute_result"
    }
   ],
   "source": [
    "# Multiplicação de matrizes\n",
    "\n",
    "# A: 3 x 3\n",
    "A = np.array([[1,2,3],[4,5,6],[7,8,9]])\n",
    "\n",
    "# B: 3 x 2\n",
    "B = np.array([[1,0], [2,3], [3,2]])\n",
    "\n",
    "A @ B"
   ]
  },
  {
   "cell_type": "code",
   "execution_count": null,
   "metadata": {},
   "outputs": [],
   "source": []
  }
 ],
 "metadata": {
  "kernelspec": {
   "display_name": "Python 3",
   "language": "python",
   "name": "python3"
  },
  "language_info": {
   "codemirror_mode": {
    "name": "ipython",
    "version": 3
   },
   "file_extension": ".py",
   "mimetype": "text/x-python",
   "name": "python",
   "nbconvert_exporter": "python",
   "pygments_lexer": "ipython3",
   "version": "3.7.0"
  }
 },
 "nbformat": 4,
 "nbformat_minor": 2
}
