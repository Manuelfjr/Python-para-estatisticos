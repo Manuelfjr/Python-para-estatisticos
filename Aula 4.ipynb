{
 "cells": [
  {
   "cell_type": "markdown",
   "metadata": {},
   "source": [
    "# Aula 4"
   ]
  },
  {
   "cell_type": "markdown",
   "metadata": {},
   "source": [
    "## 1.29 Algoritmo de ordenação: Merge sort\n",
    "\n",
    "Usa a abordagem dividir para conquistar, aproveitando-se da facilidade de unir duas listas ordenadas em uma nova lista. O algoritmo divide a lista em n listas, cada uma com um elemeno. Uma lista com 1 elemento é considerada ordenada. Depois, o algoritmo repetidamente une arrays adjacentes, produzindo novos arrays ordenados, até que o único array restante contenha todos os elementos ordenados. Para unir dois arrays ordenados, o algoritmo seleciona o menor elemento de cada array e os compara, colocando o menor na primeira posição livre do novo array, e comparando o elemento que sobrou com o novo menor elemento do outro array e assim sucessivamente. Implemente uma função que recebe uma lista e retorna seus elementos ordenados usando o algoritmo merge sort. **(Dica, recursividade)**"
   ]
  },
  {
   "cell_type": "code",
   "execution_count": 14,
   "metadata": {},
   "outputs": [],
   "source": [
    "def merge_sort(l):\n",
    "    \n",
    "    if len(l) == 1:\n",
    "        return l\n",
    "    \n",
    "    middle = len(l)//2\n",
    "    # também é valido : middle = int(len(l)/2)\n",
    "    left_list = l[:middle]\n",
    "    right_list = l[middle:]\n",
    "    \n",
    "    left_list = merge_sort(left_list) # Reproduz tudo, ate antes da recursiva\n",
    "    right_list = merge_sort(right_list)\n",
    "    \n",
    "    i = 0\n",
    "    j = 0\n",
    "    k = 0\n",
    "    \n",
    "    while i < len(left_list) and j < len(right_list):\n",
    "        if left_list[i] < right_list[j]:\n",
    "            l[k] = left_list[i]\n",
    "            i += 1\n",
    "        else:\n",
    "            l[k] = right_list[j]\n",
    "            j += 1\n",
    "        k += 1\n",
    "        \n",
    "    while i < len(left_list):\n",
    "        l[k] = left_list[i]\n",
    "        i += 1\n",
    "        k += 1\n",
    "        \n",
    "    while j < len(right_list):\n",
    "        l[k] = right_list[j]\n",
    "        j += 1\n",
    "        k += 1\n",
    "    \n",
    "    return l\n",
    "    "
   ]
  },
  {
   "cell_type": "code",
   "execution_count": 15,
   "metadata": {},
   "outputs": [
    {
     "name": "stdout",
     "output_type": "stream",
     "text": [
      "[-1, 0, 2, 4, 5, 7]\n"
     ]
    }
   ],
   "source": [
    "a = [-1,0,7,2,4,5]\n",
    "\n",
    "print(merge_sort(a))"
   ]
  },
  {
   "cell_type": "markdown",
   "metadata": {},
   "source": [
    "## 1.30. Algoritmo de ordenação: Quicksort\n",
    "\n",
    "Assim como o merge sort, o quicksort é um algoritmo que usa a abordagem dividir para conquistar, mais especificamente, uma abordagem de partição. O algoritmo seleciona um elemento, chamado de pivô, e coloca todos os elementos menores do que o pivô antes dele e todos os maiores depois dele. Os dois sub-arrays são então recursivamente ordenados, seguindo o mesmo processo. Implementações eficientes do quicksort estão entre os algoritmos de ordenação mais rápidos na prática. Implemente uma função que recebe uma lista e retorna seus elementos ordenados usando o algoritmo quicksort."
   ]
  },
  {
   "cell_type": "code",
   "execution_count": 16,
   "metadata": {},
   "outputs": [
    {
     "data": {
      "text/plain": [
       "[1, 2, 6, 10, 23, 56]"
      ]
     },
     "execution_count": 16,
     "metadata": {},
     "output_type": "execute_result"
    }
   ],
   "source": [
    "def quicksort(l, ini, end):\n",
    "    i = ini\n",
    "    j = end\n",
    "    index_pivot = (ini + end)//2\n",
    "    pivot = l[index_pivot]\n",
    "    while i <= j:\n",
    "        while l[i] < pivot:\n",
    "            i += 1\n",
    "        while l[j] > pivot:\n",
    "            j -= 1\n",
    "        if i <= j:\n",
    "            temp = l[i]\n",
    "            l[i] = l[j]\n",
    "            l[j] = temp\n",
    "            i += 1\n",
    "            i += 1\n",
    "    if ini < j:\n",
    "        quicksort(l, ini, j)\n",
    "    if i < end:\n",
    "        quicksort(l, i , end)\n",
    "    return l\n",
    "\n",
    "l = [10,2,56,1,23,6]\n",
    "quicksort(l, 0, len(l) - 1)"
   ]
  },
  {
   "cell_type": "code",
   "execution_count": null,
   "metadata": {},
   "outputs": [],
   "source": []
  }
 ],
 "metadata": {
  "kernelspec": {
   "display_name": "Python 3",
   "language": "python",
   "name": "python3"
  },
  "language_info": {
   "codemirror_mode": {
    "name": "ipython",
    "version": 3
   },
   "file_extension": ".py",
   "mimetype": "text/x-python",
   "name": "python",
   "nbconvert_exporter": "python",
   "pygments_lexer": "ipython3",
   "version": "3.7.3"
  }
 },
 "nbformat": 4,
 "nbformat_minor": 2
}
