{
 "cells": [
  {
   "cell_type": "markdown",
   "metadata": {},
   "source": [
    "**3.1** se NumPy para gerar 1000 valores aleatórios em um vetor $ \\vec{x} $ . Depois gere um vetor $\\vec{y}$, tal que  $y_{i}=3x_{i}+10+e_{i}$ , onde  $e_{i} ∼ N(0,1)$ . Por fim, estime um modelo de regressão simples de  $Y$  em função de  $X$ ."
   ]
  },
  {
   "cell_type": "code",
   "execution_count": 2,
   "metadata": {},
   "outputs": [
    {
     "name": "stdout",
     "output_type": "stream",
     "text": [
      "3.1324593584336524 9.782185662331454\n"
     ]
    },
    {
     "data": {
      "text/plain": [
       "[<matplotlib.lines.Line2D at 0x4ba3af0>]"
      ]
     },
     "execution_count": 2,
     "metadata": {},
     "output_type": "execute_result"
    }
   ],
   "source": [
    "import numpy as np\n",
    "import matplotlib.pyplot as plt\n",
    "\n",
    "xi = np.random.normal(2, 1, 40)\n",
    "ei = np.random.normal(0, 1, 40)\n",
    "yi = lambda x: 3 * x + 10 + ei\n",
    "\n",
    "beta = sum((xi - np.mean(xi)) * (yi(xi) - np.mean(yi(xi)))/(sum((xi - np.mean(xi))**(2))))\n",
    "\n",
    "alpha = np.mean(yi(xi) )  - beta * np.mean(xi)\n",
    "\n",
    "print(beta,alpha)\n",
    "\n",
    "plt.scatter(xi, yi(xi), color = 'r')\n",
    "\n",
    "plt.plot(xi, xi * beta + alpha)"
   ]
  },
  {
   "cell_type": "markdown",
   "metadata": {},
   "source": [
    "**3.2** Faça uma função que gera uma matriz aleatória  $X$  (escolha a distribuição) com  $n$  linhas e  $p$  colunas e um vetor $\\vec{y}$, cujos valores são função das linhas de  $X$  com adição de ruído normal, de média  0  e variância  1 , e.g.  $y_{i}=3x_{i1} + 5x_{i2}+10+e_{i}$ , onde  $e_{i} ∼ N(0,1)$ . Os parâmetros da função geradora devem incluir  $n$ ,  $p$  e a função geradora de  $y$  (dica: use o operador lambda)."
   ]
  },
  {
   "cell_type": "code",
   "execution_count": 3,
   "metadata": {},
   "outputs": [
    {
     "name": "stdout",
     "output_type": "stream",
     "text": [
      "[[0.0436472  0.60107472]\n",
      " [0.28496875 0.58567178]\n",
      " [0.137608   0.52751638]] [1.96304039 4.39711325 3.97505054]\n"
     ]
    }
   ],
   "source": [
    "import numpy as np\n",
    "np.random.seed(3122010)\n",
    "\n",
    "def generate_data(n = 3, p = 2,f = lambda x: 2 * x[:,0]**(2) + 3*x[:,1] +  1):\n",
    "    \n",
    "    x = np.random.random((n, p))\n",
    "    \n",
    "    y = f(x) + np.random.normal(0, 1, n)\n",
    "    \n",
    "    return x,y\n",
    "\n",
    "X,Y = generate_data()\n",
    "\n",
    "print(X, Y)"
   ]
  },
  {
   "cell_type": "markdown",
   "metadata": {},
   "source": [
    "**3.3** Implemente uma classe _LinearRegression_, com os métodos:\n",
    "\n",
    "- _fit_ que recebe uma matriz  $X$  e um vetor $\\vec{y}$ e ajusta uma regressão linear pelo método dos mínimos quadrados, guardando os coeficientes e o intercept como atributos\n",
    "\n",
    "- _predict_ que recebe uma matriz  $X$  e estima os valores  $\\hat{y}$ correspondentes\n",
    "\n",
    "- _score_ que recebe uma matriz  $X$  e um vetor $\\vec{y}$  e calcula o erro quadrático médio de estimação\n",
    "\n",
    "Use a função geradora da questão anterior para gerar  $X_{1}$  e $\\vec{y}_{1}$  e ajustar o seu modelo e depois gerar $X_{2}$  e $\\vec{y}_{2}$ e avaliar o modelo ajustado."
   ]
  },
  {
   "cell_type": "code",
   "execution_count": 12,
   "metadata": {},
   "outputs": [
    {
     "name": "stdout",
     "output_type": "stream",
     "text": [
      "[[0.38140576 0.79472444]\n",
      " [0.83723106 0.29058078]\n",
      " [0.06384561 0.41192892]\n",
      " [0.73589209 0.52317554]\n",
      " [0.00228603 0.53305588]]\n",
      "\n",
      "[3.89229626 3.39653594 1.88252056 4.14314732 1.93126192]\n",
      "\n",
      "Coeficientes : [2.85078609 3.68470903]\n",
      "\n",
      "Predição : [4.01563454 3.45747228 1.69984839 4.02562056 1.97067279]\n",
      "\n",
      "Score : 0.013532089274704178\n"
     ]
    }
   ],
   "source": [
    "np.random.seed(3122019)\n",
    "\n",
    "class LinearRegression:\n",
    "    def fit(self, X, y):\n",
    "        self.coef = np.linalg.pinv(X.transpose() @ X) @ np.transpose(X) @ y\n",
    "        return self\n",
    "\n",
    "    def predict(self, X):\n",
    "        return X @ self.coef\n",
    "    \n",
    "    def score(self, X, y):\n",
    "        return np.mean((y - self.predict(X))**(2))\n",
    "\n",
    "X, y = generate_data(n=5, p=2, f = lambda x: 2 * x[:,0]**2 + 3 * x[:,1] + 1)\n",
    "lr = LinearRegression().fit(X,y)\n",
    "\n",
    "print(X)\n",
    "print()\n",
    "print(y)\n",
    "print()\n",
    "print('Coeficientes : {}'.format(lr.coef))\n",
    "print()\n",
    "print('Predição : {}'.format(lr.predict(X)))\n",
    "print()\n",
    "print('Score : {}'.format(lr.score(X,y)))\n"
   ]
  },
  {
   "cell_type": "markdown",
   "metadata": {},
   "source": [
    "**3.4.** Faça uma função que executa o exercício **3.3** em uma simulação de Monte Carlo com  **m**  repetições, armazenando os erros de estimação dos  **m**  modelos ajustados. A função deve retornar os  **m**  valores de erros obtidos, sua média e seu desvio-padrão."
   ]
  },
  {
   "cell_type": "code",
   "execution_count": 32,
   "metadata": {},
   "outputs": [
    {
     "ename": "KeyboardInterrupt",
     "evalue": "",
     "output_type": "error",
     "traceback": [
      "\u001b[1;31m---------------------------------------------------------------------------\u001b[0m",
      "\u001b[1;31mKeyboardInterrupt\u001b[0m                         Traceback (most recent call last)",
      "\u001b[1;32m<ipython-input-32-bbbd0768fdc7>\u001b[0m in \u001b[0;36m<module>\u001b[1;34m\u001b[0m\n\u001b[0;32m     22\u001b[0m     \u001b[1;32mreturn\u001b[0m \u001b[0mlista\u001b[0m\u001b[1;33m\u001b[0m\u001b[1;33m\u001b[0m\u001b[0m\n\u001b[0;32m     23\u001b[0m \u001b[1;33m\u001b[0m\u001b[0m\n\u001b[1;32m---> 24\u001b[1;33m \u001b[0mMonteCarlo\u001b[0m\u001b[1;33m(\u001b[0m\u001b[1;36m1000000000000\u001b[0m\u001b[1;33m)\u001b[0m\u001b[1;33m\u001b[0m\u001b[1;33m\u001b[0m\u001b[0m\n\u001b[0m",
      "\u001b[1;32m<ipython-input-32-bbbd0768fdc7>\u001b[0m in \u001b[0;36mMonteCarlo\u001b[1;34m(m)\u001b[0m\n\u001b[0;32m     10\u001b[0m     \u001b[1;32mfor\u001b[0m \u001b[0mi\u001b[0m \u001b[1;32min\u001b[0m \u001b[0mrange\u001b[0m\u001b[1;33m(\u001b[0m\u001b[1;36m0\u001b[0m\u001b[1;33m,\u001b[0m \u001b[0mm\u001b[0m \u001b[1;33m+\u001b[0m \u001b[1;36m1\u001b[0m\u001b[1;33m)\u001b[0m\u001b[1;33m:\u001b[0m\u001b[1;33m\u001b[0m\u001b[1;33m\u001b[0m\u001b[0m\n\u001b[0;32m     11\u001b[0m \u001b[1;33m\u001b[0m\u001b[0m\n\u001b[1;32m---> 12\u001b[1;33m         \u001b[0mX\u001b[0m\u001b[1;33m,\u001b[0m \u001b[0my\u001b[0m \u001b[1;33m=\u001b[0m \u001b[0mgenerate_data\u001b[0m\u001b[1;33m(\u001b[0m\u001b[0mn\u001b[0m\u001b[1;33m=\u001b[0m\u001b[1;36m5\u001b[0m\u001b[1;33m,\u001b[0m \u001b[0mp\u001b[0m\u001b[1;33m=\u001b[0m\u001b[1;36m2\u001b[0m\u001b[1;33m,\u001b[0m \u001b[0mf\u001b[0m \u001b[1;33m=\u001b[0m \u001b[1;32mlambda\u001b[0m \u001b[0mx\u001b[0m\u001b[1;33m:\u001b[0m \u001b[1;36m2\u001b[0m \u001b[1;33m*\u001b[0m \u001b[0mx\u001b[0m\u001b[1;33m[\u001b[0m\u001b[1;33m:\u001b[0m\u001b[1;33m,\u001b[0m\u001b[1;36m0\u001b[0m\u001b[1;33m]\u001b[0m\u001b[1;33m**\u001b[0m\u001b[1;36m2\u001b[0m \u001b[1;33m+\u001b[0m \u001b[1;36m3\u001b[0m \u001b[1;33m*\u001b[0m \u001b[0mx\u001b[0m\u001b[1;33m[\u001b[0m\u001b[1;33m:\u001b[0m\u001b[1;33m,\u001b[0m\u001b[1;36m1\u001b[0m\u001b[1;33m]\u001b[0m \u001b[1;33m+\u001b[0m \u001b[1;36m1\u001b[0m\u001b[1;33m)\u001b[0m\u001b[1;33m\u001b[0m\u001b[1;33m\u001b[0m\u001b[0m\n\u001b[0m\u001b[0;32m     13\u001b[0m \u001b[1;33m\u001b[0m\u001b[0m\n\u001b[0;32m     14\u001b[0m         \u001b[0mX1\u001b[0m\u001b[1;33m,\u001b[0m \u001b[0my1\u001b[0m \u001b[1;33m=\u001b[0m \u001b[0mgenerate_data\u001b[0m\u001b[1;33m(\u001b[0m\u001b[0mn\u001b[0m\u001b[1;33m=\u001b[0m\u001b[1;36m5\u001b[0m\u001b[1;33m,\u001b[0m \u001b[0mp\u001b[0m\u001b[1;33m=\u001b[0m\u001b[1;36m2\u001b[0m\u001b[1;33m,\u001b[0m \u001b[0mf\u001b[0m \u001b[1;33m=\u001b[0m \u001b[1;32mlambda\u001b[0m \u001b[0mx\u001b[0m\u001b[1;33m:\u001b[0m \u001b[1;36m2\u001b[0m \u001b[1;33m*\u001b[0m \u001b[0mx\u001b[0m\u001b[1;33m[\u001b[0m\u001b[1;33m:\u001b[0m\u001b[1;33m,\u001b[0m\u001b[1;36m0\u001b[0m\u001b[1;33m]\u001b[0m\u001b[1;33m**\u001b[0m\u001b[1;36m2\u001b[0m \u001b[1;33m+\u001b[0m \u001b[1;36m3\u001b[0m \u001b[1;33m*\u001b[0m \u001b[0mx\u001b[0m\u001b[1;33m[\u001b[0m\u001b[1;33m:\u001b[0m\u001b[1;33m,\u001b[0m\u001b[1;36m1\u001b[0m\u001b[1;33m]\u001b[0m \u001b[1;33m+\u001b[0m \u001b[1;36m1\u001b[0m\u001b[1;33m)\u001b[0m\u001b[1;33m\u001b[0m\u001b[1;33m\u001b[0m\u001b[0m\n",
      "\u001b[1;32m<ipython-input-3-210a72a022ee>\u001b[0m in \u001b[0;36mgenerate_data\u001b[1;34m(n, p, f)\u001b[0m\n\u001b[0;32m      4\u001b[0m \u001b[1;32mdef\u001b[0m \u001b[0mgenerate_data\u001b[0m\u001b[1;33m(\u001b[0m\u001b[0mn\u001b[0m \u001b[1;33m=\u001b[0m \u001b[1;36m3\u001b[0m\u001b[1;33m,\u001b[0m \u001b[0mp\u001b[0m \u001b[1;33m=\u001b[0m \u001b[1;36m2\u001b[0m\u001b[1;33m,\u001b[0m\u001b[0mf\u001b[0m \u001b[1;33m=\u001b[0m \u001b[1;32mlambda\u001b[0m \u001b[0mx\u001b[0m\u001b[1;33m:\u001b[0m \u001b[1;36m2\u001b[0m \u001b[1;33m*\u001b[0m \u001b[0mx\u001b[0m\u001b[1;33m[\u001b[0m\u001b[1;33m:\u001b[0m\u001b[1;33m,\u001b[0m\u001b[1;36m0\u001b[0m\u001b[1;33m]\u001b[0m\u001b[1;33m**\u001b[0m\u001b[1;33m(\u001b[0m\u001b[1;36m2\u001b[0m\u001b[1;33m)\u001b[0m \u001b[1;33m+\u001b[0m \u001b[1;36m3\u001b[0m\u001b[1;33m*\u001b[0m\u001b[0mx\u001b[0m\u001b[1;33m[\u001b[0m\u001b[1;33m:\u001b[0m\u001b[1;33m,\u001b[0m\u001b[1;36m1\u001b[0m\u001b[1;33m]\u001b[0m \u001b[1;33m+\u001b[0m  \u001b[1;36m1\u001b[0m\u001b[1;33m)\u001b[0m\u001b[1;33m:\u001b[0m\u001b[1;33m\u001b[0m\u001b[1;33m\u001b[0m\u001b[0m\n\u001b[0;32m      5\u001b[0m \u001b[1;33m\u001b[0m\u001b[0m\n\u001b[1;32m----> 6\u001b[1;33m     \u001b[0mx\u001b[0m \u001b[1;33m=\u001b[0m \u001b[0mnp\u001b[0m\u001b[1;33m.\u001b[0m\u001b[0mrandom\u001b[0m\u001b[1;33m.\u001b[0m\u001b[0mrandom\u001b[0m\u001b[1;33m(\u001b[0m\u001b[1;33m(\u001b[0m\u001b[0mn\u001b[0m\u001b[1;33m,\u001b[0m \u001b[0mp\u001b[0m\u001b[1;33m)\u001b[0m\u001b[1;33m)\u001b[0m\u001b[1;33m\u001b[0m\u001b[1;33m\u001b[0m\u001b[0m\n\u001b[0m\u001b[0;32m      7\u001b[0m \u001b[1;33m\u001b[0m\u001b[0m\n\u001b[0;32m      8\u001b[0m     \u001b[0my\u001b[0m \u001b[1;33m=\u001b[0m \u001b[0mf\u001b[0m\u001b[1;33m(\u001b[0m\u001b[0mx\u001b[0m\u001b[1;33m)\u001b[0m \u001b[1;33m+\u001b[0m \u001b[0mnp\u001b[0m\u001b[1;33m.\u001b[0m\u001b[0mrandom\u001b[0m\u001b[1;33m.\u001b[0m\u001b[0mnormal\u001b[0m\u001b[1;33m(\u001b[0m\u001b[1;36m0\u001b[0m\u001b[1;33m,\u001b[0m \u001b[1;36m1\u001b[0m\u001b[1;33m,\u001b[0m \u001b[0mn\u001b[0m\u001b[1;33m)\u001b[0m\u001b[1;33m\u001b[0m\u001b[1;33m\u001b[0m\u001b[0m\n",
      "\u001b[1;31mKeyboardInterrupt\u001b[0m: "
     ]
    }
   ],
   "source": [
    "m = 100\n",
    "lr = LinearRegression()\n",
    "\n",
    "erro = []\n",
    "\n",
    "def MonteCarlo(m):\n",
    "    \n",
    "    np.random.seed(5122019)\n",
    "    \n",
    "    for i in range(0, m + 1):\n",
    "        \n",
    "        X, y = generate_data(n=5, p=2, f = lambda x: 2 * x[:,0]**2 + 3 * x[:,1] + 1)\n",
    "        \n",
    "        X1, y1 = generate_data(n=5, p=2, f = lambda x: 2 * x[:,0]**2 + 3 * x[:,1] + 1)\n",
    "        erro.append(lr.fit(X,y).score(X1,y1))\n",
    "        \n",
    "    lista = {\n",
    "        'erro ': erro,\n",
    "        'medias': np.mean(erro),\n",
    "        'desvio padrão': np.var(erro)**(1/2)\n",
    "    }\n",
    "    return lista\n",
    "\n",
    "MonteCarlo(1000000000000)"
   ]
  },
  {
   "cell_type": "markdown",
   "metadata": {},
   "source": [
    "**3.5.** Faça uma função que aproxima a integral de uma função qualquer em um intervalo  $[a,b]$ , usando a regra de Simpson. Use essa função em uma outra função que deve calcular  $P(X<xi)$ , para  $i=1,…,n$ , onde  $X∼N(\\mu,\\sigma^{2})$ ."
   ]
  },
  {
   "cell_type": "code",
   "execution_count": 83,
   "metadata": {},
   "outputs": [
    {
     "data": {
      "text/plain": [
       "0.5"
      ]
     },
     "execution_count": 83,
     "metadata": {},
     "output_type": "execute_result"
    }
   ],
   "source": [
    "def integrate(a,b, f):\n",
    "    \n",
    "    return (b - a) * (f(a) + 4 * f((a + b)/2) + f(b))/6\n",
    "\n",
    "def cumulative(X, f, sig2 = 1, mu = 0):\n",
    "    \n",
    "    if X > mu:\n",
    "        prob = 0.5 + integrate(mu, X, f)\n",
    "    else:\n",
    "        prob = 0.5 - integrate(X, mu, f)\n",
    "\n",
    "    return prob\n",
    "\n",
    "mu, sig2 = 0, 1\n",
    "\n",
    "f = lambda x: (2 * np.pi * sig2)**(-1/2) * np.exp(-(x - mu)**(2)/(2 * sig2))\n",
    "\n",
    "integrate(0, 2, f = f)\n",
    "\n",
    "cumulative(0, f = f, sig2 = 1, mu = 0)\n",
    "\n",
    "# Refazer "
   ]
  },
  {
   "cell_type": "code",
   "execution_count": 72,
   "metadata": {},
   "outputs": [
    {
     "data": {
      "text/plain": [
       "0.33923524751608825"
      ]
     },
     "execution_count": 72,
     "metadata": {},
     "output_type": "execute_result"
    }
   ],
   "source": []
  },
  {
   "cell_type": "code",
   "execution_count": null,
   "metadata": {},
   "outputs": [],
   "source": []
  }
 ],
 "metadata": {
  "file_extension": ".py",
  "kernelspec": {
   "display_name": "Python 3",
   "language": "python",
   "name": "python3"
  },
  "language_info": {
   "codemirror_mode": {
    "name": "ipython",
    "version": 3
   },
   "file_extension": ".py",
   "mimetype": "text/x-python",
   "name": "python",
   "nbconvert_exporter": "python",
   "pygments_lexer": "ipython3",
   "version": "3.7.3"
  },
  "mimetype": "text/x-python",
  "name": "python",
  "npconvert_exporter": "python",
  "pygments_lexer": "ipython3",
  "version": 3
 },
 "nbformat": 4,
 "nbformat_minor": 2
}
