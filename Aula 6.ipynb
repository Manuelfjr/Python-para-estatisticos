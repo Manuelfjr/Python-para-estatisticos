{
 "cells": [
  {
   "cell_type": "markdown",
   "metadata": {},
   "source": [
    "**2.2. (Estrutura de dados: Lista encadeada).**\n",
    "\n",
    "Uma lista encadeada é uma coleção de elementos em que cada elemento 'eum nó que \"aponta\" para o próximo membro da lista. Dessa forma, os elementos da lista formam uma cadeia cuja posição na memória não precisa ser contígua. Essa estrutura permite a inserção e a remoção eficiente de elementos em qualquer posição da lista, sem ser necessário deslocar \"fisicamente\" todos os outros membros. Uma desvatagem das listas é que o acesso a cada elemento não pode ser feita de forma direta, como em um array. É necessário navegar pela lista para encontrar o elemento desejado. Na sua forma mais simples, cada nó da lista contém dados e uma referência para o próximo elemento. Dessa forma, o último elemento da lista sempre apontará para uma referência nula. Variedades mais complexas adicionam referências extras, como para os elementos anteriores (lista duplamente encadeada). Implemente uma lista encadeada simples em Python, usando classes para a lista e para os nós, além das seguintes operações:"
   ]
  },
  {
   "cell_type": "code",
   "execution_count": 23,
   "metadata": {},
   "outputs": [],
   "source": [
    "class Node:\n",
    "    def __init__(self, value):\n",
    "        self.value = value\n",
    "        self.next = None\n",
    "    \n",
    "class LinkedList:\n",
    "    def __init__(self, value = None):\n",
    "        self.head = None\n",
    "        if value:\n",
    "            n = Node(value)\n",
    "            self.head = n\n",
    "        else:\n",
    "            self.head = None\n",
    "        \n",
    "    def insert_head(self, value):\n",
    "        new_node = Node(value)\n",
    "        new_node.next = self.head\n",
    "        self.head = new_node\n",
    "    \n",
    "    def insert_end(self, value):\n",
    "        new_node = Node(value)\n",
    "        node = self.head\n",
    "        while node.next:\n",
    "            node = node.next\n",
    "        node.next = new_node\n",
    "    \n",
    "    def find(self, value):\n",
    "        found = False\n",
    "        node = self.head\n",
    "        while node and not found:\n",
    "            if node.value == value:\n",
    "                found = True\n",
    "            node = node.next \n",
    "        return found\n",
    "    \n",
    "    def remove_head(self):\n",
    "        if self.head:\n",
    "            node = self.head\n",
    "            self.head = node.next\n",
    "            return node.value\n",
    "    \n",
    "    def remove_end(self):\n",
    "        if self.head:\n",
    "            if self.head.next:\n",
    "                node = self.head\n",
    "                while node.next.next:\n",
    "                    node = node.next\n",
    "                end = node.next\n",
    "                node.next = None\n",
    "                return end.value\n",
    "            else:\n",
    "                end = self.head\n",
    "                self.head = None\n",
    "                return end.value\n",
    "            \n",
    "            \n",
    "    def __str__(self):\n",
    "        s = ''\n",
    "        node = self.head\n",
    "        while node:\n",
    "            s += '{} -> '.format(node.value)\n",
    "            node = node.next\n",
    "        if s:\n",
    "            return s\n",
    "        else:\n",
    "            return 'empty list'\n",
    "        \n",
    "    def remove_value(self, value):\n",
    "        if self.head:\n",
    "            previous = None\n",
    "            current = self.head\n",
    "            while current and current.value != value:\n",
    "                previous = current\n",
    "                current = current.next\n",
    "            if current:\n",
    "                node = current\n",
    "                if previous:\n",
    "                    previous.next = current.next\n",
    "                else:\n",
    "                    self.head = current.next\n",
    "                return node.value\n",
    "            \n",
    "    def insert(self, value, position):\n",
    "        new_node = Node(value)\n",
    "        i = 0\n",
    "        previous = None\n",
    "        current = self.head\n",
    "        while current and i < position:\n",
    "            previous = current\n",
    "            current = current.next\n",
    "            i += 1\n",
    "        if previous:\n",
    "            previous.next = new_node\n",
    "        new_node.next = current\n",
    "        if i == 0:\n",
    "            self.head = new_node\n",
    "    \n",
    "    "
   ]
  },
  {
   "cell_type": "code",
   "execution_count": 24,
   "metadata": {},
   "outputs": [],
   "source": [
    "lista = LinkedList(8)\n",
    "\n",
    "lista.insert_head(7)\n",
    "\n",
    "lista.insert_end(9)"
   ]
  },
  {
   "cell_type": "code",
   "execution_count": 28,
   "metadata": {},
   "outputs": [
    {
     "name": "stdout",
     "output_type": "stream",
     "text": [
      "7 -> 8 -> 9 -> \n"
     ]
    }
   ],
   "source": [
    "print(lista)"
   ]
  },
  {
   "cell_type": "markdown",
   "metadata": {},
   "source": [
    "# Fila e Pilha\n",
    "\n",
    "**Lista**\n",
    "\n",
    ".insert_head()\n",
    "\n",
    ".remove_end()"
   ]
  },
  {
   "cell_type": "code",
   "execution_count": 29,
   "metadata": {},
   "outputs": [],
   "source": [
    "class Node:\n",
    "    def __init__(self, value):\n",
    "        self.value = value\n",
    "        self.next = None\n",
    "        \n",
    "class Fila(LinkedList):\n",
    "    def enqueue(self, value):\n",
    "        self.insert_head(value)"
   ]
  },
  {
   "cell_type": "code",
   "execution_count": 30,
   "metadata": {},
   "outputs": [],
   "source": [
    "lista = LinkedList()\n",
    "\n",
    "lista.insert_head(1)\n",
    "lista.insert_head(2)"
   ]
  },
  {
   "cell_type": "code",
   "execution_count": 31,
   "metadata": {},
   "outputs": [
    {
     "name": "stdout",
     "output_type": "stream",
     "text": [
      "2 -> 1 -> \n"
     ]
    }
   ],
   "source": [
    "print(lista)"
   ]
  },
  {
   "cell_type": "markdown",
   "metadata": {},
   "source": [
    "**Pilha**\n",
    "\n",
    ".insert_head() - push\n",
    "\n",
    ".remove_head() - pop"
   ]
  },
  {
   "cell_type": "code",
   "execution_count": null,
   "metadata": {},
   "outputs": [],
   "source": []
  }
 ],
 "metadata": {
  "kernelspec": {
   "display_name": "Python 3",
   "language": "python",
   "name": "python3"
  },
  "language_info": {
   "codemirror_mode": {
    "name": "ipython",
    "version": 3
   },
   "file_extension": ".py",
   "mimetype": "text/x-python",
   "name": "python",
   "nbconvert_exporter": "python",
   "pygments_lexer": "ipython3",
   "version": "3.7.3"
  }
 },
 "nbformat": 4,
 "nbformat_minor": 2
}
